{
 "cells": [
  {
   "cell_type": "markdown",
   "id": "dbd15694",
   "metadata": {},
   "source": [
    "## Import necessary libraries"
   ]
  },
  {
   "cell_type": "code",
   "execution_count": 1,
   "id": "6b82f03b",
   "metadata": {},
   "outputs": [],
   "source": [
    "import tkinter as tk\n",
    "from tkinter import filedialog\n",
    "from tkinter import *\n",
    "from PIL import Image,ImageTk\n",
    "import numpy as np\n",
    "from keras.models import load_model"
   ]
  },
  {
   "cell_type": "markdown",
   "id": "ae1d8920",
   "metadata": {},
   "source": [
    "## Loading the model"
   ]
  },
  {
   "cell_type": "code",
   "execution_count": 3,
   "id": "7eeab1c7",
   "metadata": {},
   "outputs": [],
   "source": [
    "model_path=\"D:\\Mamta\\Age gender detector\\Age_sex_detection.h5\"\n",
    "model=load_model(model_path)"
   ]
  },
  {
   "cell_type": "markdown",
   "id": "5b097057",
   "metadata": {},
   "source": [
    "## Initialising the GUI"
   ]
  },
  {
   "cell_type": "code",
   "execution_count": 5,
   "id": "5a5cd351",
   "metadata": {},
   "outputs": [],
   "source": [
    "top=tk.Tk()\n",
    "top.geometry('800x600')\n",
    "top.title('Age and Gender Detection')\n",
    "top.configure(background='#CDCDCD')"
   ]
  },
  {
   "cell_type": "markdown",
   "id": "d6ee3bdf",
   "metadata": {},
   "source": [
    "## Initialising the labels(1 for age and 2 for sex)"
   ]
  },
  {
   "cell_type": "code",
   "execution_count": 6,
   "id": "83c00442",
   "metadata": {},
   "outputs": [],
   "source": [
    "label1=Label(top,background='#CDCDCD',font=('aerial',15,'bold'))\n",
    "label2=Label(top,background='#CDCDCD',font=('aerial',15,'bold'))\n",
    "sign_image=Label(top)"
   ]
  },
  {
   "cell_type": "markdown",
   "id": "083e63aa",
   "metadata": {},
   "source": [
    "## Defining detect function which detects the age and gender of the person in image using model"
   ]
  },
  {
   "cell_type": "code",
   "execution_count": 7,
   "id": "5a084332",
   "metadata": {},
   "outputs": [],
   "source": [
    "def Detect(file_path):\n",
    "    global label_packed\n",
    "    image=Image.open(file_path)\n",
    "    image=image.resize((48,48))\n",
    "    image=np.expand_dims(image,axis=0)\n",
    "    image=np.array(image)\n",
    "    image=np.delete(image,0,1)\n",
    "    image=np.resize(image,(48,48,3))\n",
    "    print(image.shape)\n",
    "    sex_f=['Male','Female']\n",
    "    image=np.array([image])/255\n",
    "    pred=model.predict(image)\n",
    "    age=int(np.round(pred[1][0]))\n",
    "    sex=int(np.round(pred[0][0]))\n",
    "    print('Predicted age is '+str(age))\n",
    "    print('Predicted gender is '+sex_f[sex])\n",
    "    label1.configure(foreground='#011638',text=age)\n",
    "    label2.configure(foreground='#011638',text=sex_f[sex])"
   ]
  },
  {
   "cell_type": "markdown",
   "id": "ea1fe779",
   "metadata": {},
   "source": [
    "## Defining show_detect  button function"
   ]
  },
  {
   "cell_type": "code",
   "execution_count": 8,
   "id": "36314926",
   "metadata": {},
   "outputs": [],
   "source": [
    "def show_detect_button(file_path):\n",
    "    Detect_b=Button(top,text='Detect Image',command=lambda: Detect(file_path),padx=10,pady=5)\n",
    "    Detect_b.configure(background='#364156',foreground='white',font=('aerial',10,'bold'))\n",
    "    Detect_b.place(relx=0.79,rely=0.46)"
   ]
  },
  {
   "cell_type": "markdown",
   "id": "218913b8",
   "metadata": {},
   "source": [
    "## Defining Upload Image function"
   ]
  },
  {
   "cell_type": "code",
   "execution_count": 9,
   "id": "c366ef0c",
   "metadata": {},
   "outputs": [],
   "source": [
    "def upload_image():\n",
    "    try:\n",
    "        file_path=filedialog.askopenfilename()\n",
    "        uploaded=Image.open(file_path)\n",
    "        uploaded.thumbnail(((top.winfo_width()/2.25),(top.winfo_height()/2.25)))\n",
    "        im=ImageTk.PhotoImage(uploaded)\n",
    "        sign_image.configure(image=im)\n",
    "        sign_image.image=im\n",
    "        label1.configure(text='')\n",
    "        label2.configure(text='')\n",
    "        show_detect_button(file_path)\n",
    "    except:\n",
    "        pass"
   ]
  },
  {
   "cell_type": "code",
   "execution_count": null,
   "id": "92b89cc9",
   "metadata": {},
   "outputs": [
    {
     "name": "stdout",
     "output_type": "stream",
     "text": [
      "(48, 48, 3)\n",
      "1/1 [==============================] - 0s 130ms/step\n",
      "Predicted age is 1\n",
      "Predicted gender is Female\n",
      "(48, 48, 3)\n",
      "1/1 [==============================] - 0s 19ms/step\n",
      "Predicted age is 2\n",
      "Predicted gender is Female\n",
      "(48, 48, 3)\n",
      "1/1 [==============================] - 0s 17ms/step\n",
      "Predicted age is 53\n",
      "Predicted gender is Male\n",
      "(48, 48, 3)\n",
      "1/1 [==============================] - 0s 17ms/step\n",
      "Predicted age is 83\n",
      "Predicted gender is Male\n",
      "(48, 48, 3)\n",
      "1/1 [==============================] - 0s 17ms/step\n",
      "Predicted age is 75\n",
      "Predicted gender is Female\n",
      "(48, 48, 3)\n",
      "1/1 [==============================] - 0s 18ms/step\n",
      "Predicted age is 47\n",
      "Predicted gender is Female\n",
      "(48, 48, 3)\n",
      "1/1 [==============================] - 0s 18ms/step\n",
      "Predicted age is 42\n",
      "Predicted gender is Female\n",
      "(48, 48, 3)\n",
      "1/1 [==============================] - 0s 17ms/step\n",
      "Predicted age is 30\n",
      "Predicted gender is Female\n"
     ]
    }
   ],
   "source": [
    "upload=Button(top,text='Upload an Image',command=upload_image,padx=10,pady=5)\n",
    "upload.configure(background='#364156',foreground='white',font=('aerial',10,'bold'))\n",
    "upload.pack(side='bottom',pady=50)\n",
    "sign_image.pack(side='bottom',expand=True)\n",
    "label1.pack(side='bottom',expand=True)\n",
    "label2.pack(side='bottom',expand=True)\n",
    "heading=Label(top,text='Age and Gender Detection',pady=20,font=('aerial',20,'bold'))\n",
    "heading.configure(background='#CDCDCD',foreground='#364156')\n",
    "heading.pack()\n",
    "top.mainloop()"
   ]
  }
 ],
 "metadata": {
  "kernelspec": {
   "display_name": "Python 3 (ipykernel)",
   "language": "python",
   "name": "python3"
  },
  "language_info": {
   "codemirror_mode": {
    "name": "ipython",
    "version": 3
   },
   "file_extension": ".py",
   "mimetype": "text/x-python",
   "name": "python",
   "nbconvert_exporter": "python",
   "pygments_lexer": "ipython3",
   "version": "3.7.9"
  }
 },
 "nbformat": 4,
 "nbformat_minor": 5
}
