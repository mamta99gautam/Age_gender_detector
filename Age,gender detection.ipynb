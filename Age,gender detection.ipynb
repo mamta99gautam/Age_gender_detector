{
 "cells": [
  {
   "cell_type": "markdown",
   "id": "2d44b64b",
   "metadata": {},
   "source": [
    "# Import necessary library"
   ]
  },
  {
   "cell_type": "code",
   "execution_count": 1,
   "id": "5c616e08",
   "metadata": {},
   "outputs": [
    {
     "name": "stdout",
     "output_type": "stream",
     "text": [
      "Requirement already satisfied: pip in c:\\users\\91892\\appdata\\local\\programs\\python\\python37\\lib\\site-packages (23.3.2)\n",
      "Collecting pip\n",
      "  Downloading pip-24.0-py3-none-any.whl.metadata (3.6 kB)\n",
      "Downloading pip-24.0-py3-none-any.whl (2.1 MB)\n",
      "   ---------------------------------------- 2.1/2.1 MB 2.3 MB/s eta 0:00:00\n",
      "Installing collected packages: pip\n",
      "  Attempting uninstall: pip\n",
      "    Found existing installation: pip 23.3.2\n",
      "    Uninstalling pip-23.3.2:\n",
      "      Successfully uninstalled pip-23.3.2\n",
      "Successfully installed pip-24.0\n",
      "Note: you may need to restart the kernel to use updated packages.\n"
     ]
    }
   ],
   "source": [
    "pip install --upgrade pip"
   ]
  },
  {
   "cell_type": "code",
   "execution_count": 2,
   "id": "1cdda0d9",
   "metadata": {},
   "outputs": [
    {
     "name": "stdout",
     "output_type": "stream",
     "text": [
      "Requirement already satisfied: scikit-learn in c:\\users\\91892\\appdata\\local\\programs\\python\\python37\\lib\\site-packages (1.0.2)\n",
      "Requirement already satisfied: numpy>=1.14.6 in c:\\users\\91892\\appdata\\local\\programs\\python\\python37\\lib\\site-packages (from scikit-learn) (1.21.6)\n",
      "Requirement already satisfied: scipy>=1.1.0 in c:\\users\\91892\\appdata\\local\\programs\\python\\python37\\lib\\site-packages (from scikit-learn) (1.7.3)\n",
      "Requirement already satisfied: joblib>=0.11 in c:\\users\\91892\\appdata\\local\\programs\\python\\python37\\lib\\site-packages (from scikit-learn) (1.3.2)\n",
      "Requirement already satisfied: threadpoolctl>=2.0.0 in c:\\users\\91892\\appdata\\local\\programs\\python\\python37\\lib\\site-packages (from scikit-learn) (3.1.0)\n",
      "Note: you may need to restart the kernel to use updated packages.\n"
     ]
    }
   ],
   "source": [
    "pip install scikit-learn"
   ]
  },
  {
   "cell_type": "code",
   "execution_count": 3,
   "id": "a8784e9d",
   "metadata": {},
   "outputs": [
    {
     "name": "stdout",
     "output_type": "stream",
     "text": [
      "Requirement already satisfied: tensorflow in c:\\users\\91892\\appdata\\local\\programs\\python\\python37\\lib\\site-packages (2.11.0)\n",
      "Requirement already satisfied: tensorflow-intel==2.11.0 in c:\\users\\91892\\appdata\\local\\programs\\python\\python37\\lib\\site-packages (from tensorflow) (2.11.0)\n",
      "Requirement already satisfied: absl-py>=1.0.0 in c:\\users\\91892\\appdata\\local\\programs\\python\\python37\\lib\\site-packages (from tensorflow-intel==2.11.0->tensorflow) (2.1.0)\n",
      "Requirement already satisfied: astunparse>=1.6.0 in c:\\users\\91892\\appdata\\local\\programs\\python\\python37\\lib\\site-packages (from tensorflow-intel==2.11.0->tensorflow) (1.6.3)\n",
      "Requirement already satisfied: flatbuffers>=2.0 in c:\\users\\91892\\appdata\\local\\programs\\python\\python37\\lib\\site-packages (from tensorflow-intel==2.11.0->tensorflow) (23.5.26)\n",
      "Requirement already satisfied: gast<=0.4.0,>=0.2.1 in c:\\users\\91892\\appdata\\local\\programs\\python\\python37\\lib\\site-packages (from tensorflow-intel==2.11.0->tensorflow) (0.4.0)\n",
      "Requirement already satisfied: google-pasta>=0.1.1 in c:\\users\\91892\\appdata\\local\\programs\\python\\python37\\lib\\site-packages (from tensorflow-intel==2.11.0->tensorflow) (0.2.0)\n",
      "Requirement already satisfied: h5py>=2.9.0 in c:\\users\\91892\\appdata\\local\\programs\\python\\python37\\lib\\site-packages (from tensorflow-intel==2.11.0->tensorflow) (3.8.0)\n",
      "Requirement already satisfied: libclang>=13.0.0 in c:\\users\\91892\\appdata\\local\\programs\\python\\python37\\lib\\site-packages (from tensorflow-intel==2.11.0->tensorflow) (16.0.6)\n",
      "Requirement already satisfied: numpy>=1.20 in c:\\users\\91892\\appdata\\local\\programs\\python\\python37\\lib\\site-packages (from tensorflow-intel==2.11.0->tensorflow) (1.21.6)\n",
      "Requirement already satisfied: opt-einsum>=2.3.2 in c:\\users\\91892\\appdata\\local\\programs\\python\\python37\\lib\\site-packages (from tensorflow-intel==2.11.0->tensorflow) (3.3.0)\n",
      "Requirement already satisfied: packaging in c:\\users\\91892\\appdata\\local\\programs\\python\\python37\\lib\\site-packages (from tensorflow-intel==2.11.0->tensorflow) (23.2)\n",
      "Requirement already satisfied: protobuf<3.20,>=3.9.2 in c:\\users\\91892\\appdata\\local\\programs\\python\\python37\\lib\\site-packages (from tensorflow-intel==2.11.0->tensorflow) (3.19.6)\n",
      "Requirement already satisfied: setuptools in c:\\users\\91892\\appdata\\local\\programs\\python\\python37\\lib\\site-packages (from tensorflow-intel==2.11.0->tensorflow) (47.1.0)\n",
      "Requirement already satisfied: six>=1.12.0 in c:\\users\\91892\\appdata\\local\\programs\\python\\python37\\lib\\site-packages (from tensorflow-intel==2.11.0->tensorflow) (1.16.0)\n",
      "Requirement already satisfied: termcolor>=1.1.0 in c:\\users\\91892\\appdata\\local\\programs\\python\\python37\\lib\\site-packages (from tensorflow-intel==2.11.0->tensorflow) (2.3.0)\n",
      "Requirement already satisfied: typing-extensions>=3.6.6 in c:\\users\\91892\\appdata\\local\\programs\\python\\python37\\lib\\site-packages (from tensorflow-intel==2.11.0->tensorflow) (4.7.1)\n",
      "Requirement already satisfied: wrapt>=1.11.0 in c:\\users\\91892\\appdata\\local\\programs\\python\\python37\\lib\\site-packages (from tensorflow-intel==2.11.0->tensorflow) (1.16.0)\n",
      "Requirement already satisfied: grpcio<2.0,>=1.24.3 in c:\\users\\91892\\appdata\\local\\programs\\python\\python37\\lib\\site-packages (from tensorflow-intel==2.11.0->tensorflow) (1.60.0)\n",
      "Requirement already satisfied: tensorboard<2.12,>=2.11 in c:\\users\\91892\\appdata\\local\\programs\\python\\python37\\lib\\site-packages (from tensorflow-intel==2.11.0->tensorflow) (2.11.2)\n",
      "Requirement already satisfied: tensorflow-estimator<2.12,>=2.11.0 in c:\\users\\91892\\appdata\\local\\programs\\python\\python37\\lib\\site-packages (from tensorflow-intel==2.11.0->tensorflow) (2.11.0)\n",
      "Requirement already satisfied: keras<2.12,>=2.11.0 in c:\\users\\91892\\appdata\\local\\programs\\python\\python37\\lib\\site-packages (from tensorflow-intel==2.11.0->tensorflow) (2.11.0)\n",
      "Requirement already satisfied: tensorflow-io-gcs-filesystem>=0.23.1 in c:\\users\\91892\\appdata\\local\\programs\\python\\python37\\lib\\site-packages (from tensorflow-intel==2.11.0->tensorflow) (0.31.0)\n",
      "Requirement already satisfied: wheel<1.0,>=0.23.0 in c:\\users\\91892\\appdata\\local\\programs\\python\\python37\\lib\\site-packages (from astunparse>=1.6.0->tensorflow-intel==2.11.0->tensorflow) (0.42.0)\n",
      "Requirement already satisfied: google-auth<3,>=1.6.3 in c:\\users\\91892\\appdata\\local\\programs\\python\\python37\\lib\\site-packages (from tensorboard<2.12,>=2.11->tensorflow-intel==2.11.0->tensorflow) (2.27.0)\n",
      "Requirement already satisfied: google-auth-oauthlib<0.5,>=0.4.1 in c:\\users\\91892\\appdata\\local\\programs\\python\\python37\\lib\\site-packages (from tensorboard<2.12,>=2.11->tensorflow-intel==2.11.0->tensorflow) (0.4.6)\n",
      "Requirement already satisfied: markdown>=2.6.8 in c:\\users\\91892\\appdata\\local\\programs\\python\\python37\\lib\\site-packages (from tensorboard<2.12,>=2.11->tensorflow-intel==2.11.0->tensorflow) (3.4.4)\n",
      "Requirement already satisfied: requests<3,>=2.21.0 in c:\\users\\91892\\appdata\\local\\programs\\python\\python37\\lib\\site-packages (from tensorboard<2.12,>=2.11->tensorflow-intel==2.11.0->tensorflow) (2.31.0)\n",
      "Requirement already satisfied: tensorboard-data-server<0.7.0,>=0.6.0 in c:\\users\\91892\\appdata\\local\\programs\\python\\python37\\lib\\site-packages (from tensorboard<2.12,>=2.11->tensorflow-intel==2.11.0->tensorflow) (0.6.1)\n",
      "Requirement already satisfied: tensorboard-plugin-wit>=1.6.0 in c:\\users\\91892\\appdata\\local\\programs\\python\\python37\\lib\\site-packages (from tensorboard<2.12,>=2.11->tensorflow-intel==2.11.0->tensorflow) (1.8.1)\n",
      "Requirement already satisfied: werkzeug>=1.0.1 in c:\\users\\91892\\appdata\\local\\programs\\python\\python37\\lib\\site-packages (from tensorboard<2.12,>=2.11->tensorflow-intel==2.11.0->tensorflow) (2.2.3)\n",
      "Requirement already satisfied: cachetools<6.0,>=2.0.0 in c:\\users\\91892\\appdata\\local\\programs\\python\\python37\\lib\\site-packages (from google-auth<3,>=1.6.3->tensorboard<2.12,>=2.11->tensorflow-intel==2.11.0->tensorflow) (5.3.2)\n",
      "Requirement already satisfied: pyasn1-modules>=0.2.1 in c:\\users\\91892\\appdata\\local\\programs\\python\\python37\\lib\\site-packages (from google-auth<3,>=1.6.3->tensorboard<2.12,>=2.11->tensorflow-intel==2.11.0->tensorflow) (0.3.0)\n",
      "Requirement already satisfied: rsa<5,>=3.1.4 in c:\\users\\91892\\appdata\\local\\programs\\python\\python37\\lib\\site-packages (from google-auth<3,>=1.6.3->tensorboard<2.12,>=2.11->tensorflow-intel==2.11.0->tensorflow) (4.9)\n",
      "Requirement already satisfied: requests-oauthlib>=0.7.0 in c:\\users\\91892\\appdata\\local\\programs\\python\\python37\\lib\\site-packages (from google-auth-oauthlib<0.5,>=0.4.1->tensorboard<2.12,>=2.11->tensorflow-intel==2.11.0->tensorflow) (1.3.1)\n",
      "Requirement already satisfied: importlib-metadata>=4.4 in c:\\users\\91892\\appdata\\local\\programs\\python\\python37\\lib\\site-packages (from markdown>=2.6.8->tensorboard<2.12,>=2.11->tensorflow-intel==2.11.0->tensorflow) (6.7.0)\n",
      "Requirement already satisfied: charset-normalizer<4,>=2 in c:\\users\\91892\\appdata\\local\\programs\\python\\python37\\lib\\site-packages (from requests<3,>=2.21.0->tensorboard<2.12,>=2.11->tensorflow-intel==2.11.0->tensorflow) (3.3.2)\n",
      "Requirement already satisfied: idna<4,>=2.5 in c:\\users\\91892\\appdata\\local\\programs\\python\\python37\\lib\\site-packages (from requests<3,>=2.21.0->tensorboard<2.12,>=2.11->tensorflow-intel==2.11.0->tensorflow) (3.6)\n",
      "Requirement already satisfied: urllib3<3,>=1.21.1 in c:\\users\\91892\\appdata\\local\\programs\\python\\python37\\lib\\site-packages (from requests<3,>=2.21.0->tensorboard<2.12,>=2.11->tensorflow-intel==2.11.0->tensorflow) (2.0.7)\n",
      "Requirement already satisfied: certifi>=2017.4.17 in c:\\users\\91892\\appdata\\local\\programs\\python\\python37\\lib\\site-packages (from requests<3,>=2.21.0->tensorboard<2.12,>=2.11->tensorflow-intel==2.11.0->tensorflow) (2023.11.17)\n",
      "Requirement already satisfied: MarkupSafe>=2.1.1 in c:\\users\\91892\\appdata\\local\\programs\\python\\python37\\lib\\site-packages (from werkzeug>=1.0.1->tensorboard<2.12,>=2.11->tensorflow-intel==2.11.0->tensorflow) (2.1.4)\n",
      "Requirement already satisfied: zipp>=0.5 in c:\\users\\91892\\appdata\\local\\programs\\python\\python37\\lib\\site-packages (from importlib-metadata>=4.4->markdown>=2.6.8->tensorboard<2.12,>=2.11->tensorflow-intel==2.11.0->tensorflow) (3.15.0)\n",
      "Requirement already satisfied: pyasn1<0.6.0,>=0.4.6 in c:\\users\\91892\\appdata\\local\\programs\\python\\python37\\lib\\site-packages (from pyasn1-modules>=0.2.1->google-auth<3,>=1.6.3->tensorboard<2.12,>=2.11->tensorflow-intel==2.11.0->tensorflow) (0.5.1)\n",
      "Requirement already satisfied: oauthlib>=3.0.0 in c:\\users\\91892\\appdata\\local\\programs\\python\\python37\\lib\\site-packages (from requests-oauthlib>=0.7.0->google-auth-oauthlib<0.5,>=0.4.1->tensorboard<2.12,>=2.11->tensorflow-intel==2.11.0->tensorflow) (3.2.2)\n",
      "Note: you may need to restart the kernel to use updated packages.\n"
     ]
    }
   ],
   "source": [
    "pip install tensorflow"
   ]
  },
  {
   "cell_type": "code",
   "execution_count": 4,
   "id": "f25686a0",
   "metadata": {},
   "outputs": [
    {
     "name": "stdout",
     "output_type": "stream",
     "text": [
      "Requirement already satisfied: seaborn in c:\\users\\91892\\appdata\\local\\programs\\python\\python37\\lib\\site-packages (0.12.2)\n",
      "Requirement already satisfied: numpy!=1.24.0,>=1.17 in c:\\users\\91892\\appdata\\local\\programs\\python\\python37\\lib\\site-packages (from seaborn) (1.21.6)\n",
      "Requirement already satisfied: pandas>=0.25 in c:\\users\\91892\\appdata\\local\\programs\\python\\python37\\lib\\site-packages (from seaborn) (1.3.5)\n",
      "Requirement already satisfied: matplotlib!=3.6.1,>=3.1 in c:\\users\\91892\\appdata\\local\\programs\\python\\python37\\lib\\site-packages (from seaborn) (3.5.3)\n",
      "Requirement already satisfied: typing_extensions in c:\\users\\91892\\appdata\\local\\programs\\python\\python37\\lib\\site-packages (from seaborn) (4.7.1)\n",
      "Requirement already satisfied: cycler>=0.10 in c:\\users\\91892\\appdata\\local\\programs\\python\\python37\\lib\\site-packages (from matplotlib!=3.6.1,>=3.1->seaborn) (0.11.0)\n",
      "Requirement already satisfied: fonttools>=4.22.0 in c:\\users\\91892\\appdata\\local\\programs\\python\\python37\\lib\\site-packages (from matplotlib!=3.6.1,>=3.1->seaborn) (4.38.0)\n",
      "Requirement already satisfied: kiwisolver>=1.0.1 in c:\\users\\91892\\appdata\\local\\programs\\python\\python37\\lib\\site-packages (from matplotlib!=3.6.1,>=3.1->seaborn) (1.4.5)\n",
      "Requirement already satisfied: packaging>=20.0 in c:\\users\\91892\\appdata\\local\\programs\\python\\python37\\lib\\site-packages (from matplotlib!=3.6.1,>=3.1->seaborn) (23.2)\n",
      "Requirement already satisfied: pillow>=6.2.0 in c:\\users\\91892\\appdata\\local\\programs\\python\\python37\\lib\\site-packages (from matplotlib!=3.6.1,>=3.1->seaborn) (9.5.0)\n",
      "Requirement already satisfied: pyparsing>=2.2.1 in c:\\users\\91892\\appdata\\local\\programs\\python\\python37\\lib\\site-packages (from matplotlib!=3.6.1,>=3.1->seaborn) (3.1.1)\n",
      "Requirement already satisfied: python-dateutil>=2.7 in c:\\users\\91892\\appdata\\local\\programs\\python\\python37\\lib\\site-packages (from matplotlib!=3.6.1,>=3.1->seaborn) (2.8.2)\n",
      "Requirement already satisfied: pytz>=2017.3 in c:\\users\\91892\\appdata\\local\\programs\\python\\python37\\lib\\site-packages (from pandas>=0.25->seaborn) (2023.4)\n",
      "Requirement already satisfied: six>=1.5 in c:\\users\\91892\\appdata\\local\\programs\\python\\python37\\lib\\site-packages (from python-dateutil>=2.7->matplotlib!=3.6.1,>=3.1->seaborn) (1.16.0)\n",
      "Note: you may need to restart the kernel to use updated packages.\n"
     ]
    }
   ],
   "source": [
    "pip install seaborn"
   ]
  },
  {
   "cell_type": "code",
   "execution_count": 5,
   "id": "601f8da0",
   "metadata": {},
   "outputs": [],
   "source": [
    "import tensorflow as tf\n",
    "import cv2\n",
    "from matplotlib import pyplot as plt\n",
    "import numpy as np\n",
    "import seaborn as sns\n",
    "from tensorflow.keras.layers import Dropout\n",
    "from tensorflow.keras.layers import Flatten\n",
    "from tensorflow.keras.layers import BatchNormalization\n",
    "from tensorflow.keras.layers import Dense,MaxPool2D,Conv2D,Input,MaxPooling2D, Flatten, Dropout\n",
    "from tensorflow.keras.models import Model\n",
    "from tensorflow.keras.layers import Input,Activation,Add\n",
    "from tensorflow.keras.regularizers import l2\n",
    "from tensorflow.keras.optimizers import Adam,Adagrad,Adadelta,Adamax,RMSprop"
   ]
  },
  {
   "cell_type": "code",
   "execution_count": null,
   "id": "4fa05775",
   "metadata": {},
   "outputs": [],
   "source": []
  },
  {
   "cell_type": "markdown",
   "id": "b19e7b4e",
   "metadata": {},
   "source": [
    "# Extract dataset"
   ]
  },
  {
   "cell_type": "code",
   "execution_count": 6,
   "id": "534ffc2e",
   "metadata": {},
   "outputs": [],
   "source": [
    "fldr=r\"D:\\Mamta\\Age gender detector\\UTKFace\""
   ]
  },
  {
   "cell_type": "code",
   "execution_count": 7,
   "id": "2e19c5b2",
   "metadata": {},
   "outputs": [],
   "source": [
    "import os\n",
    "files=os.listdir(fldr) #list of filenames in folder fldr"
   ]
  },
  {
   "cell_type": "code",
   "execution_count": 8,
   "id": "db86d866",
   "metadata": {},
   "outputs": [],
   "source": [
    "#create age,gender&image list to store values from each file\n",
    "ages = []\n",
    "genders = []\n",
    "images = []"
   ]
  },
  {
   "cell_type": "code",
   "execution_count": 9,
   "id": "fe523dda",
   "metadata": {},
   "outputs": [],
   "source": [
    "\n",
    "for file in files:\n",
    "    age=int(file.split('_')[0]) #split the filename by delimeter\"_\" this\n",
    "    gender=int(file.split('_')[1])\n",
    "    image=cv2.imread(os.path.join(fldr,file)) #read image from file in folder by joining path\n",
    "    image=cv2.cvtColor(image,cv2.COLOR_BGR2RGB) #if we don't convert it shows bluish color by default for originalwe need to convert\n",
    "    image=cv2.resize(image,(48,48))\n",
    "    ages.append(age) # add age one by one in ages list\n",
    "    genders.append(gender)\n",
    "    images.append(image)\n",
    "    "
   ]
  },
  {
   "cell_type": "markdown",
   "id": "e6f3c930",
   "metadata": {},
   "source": [
    "# View sample example"
   ]
  },
  {
   "cell_type": "code",
   "execution_count": 10,
   "id": "9dfac885",
   "metadata": {},
   "outputs": [
    {
     "data": {
      "text/plain": [
       "<function matplotlib.pyplot.show(close=None, block=None)>"
      ]
     },
     "execution_count": 10,
     "metadata": {},
     "output_type": "execute_result"
    },
    {
     "data": {
      "image/png": "[encoded data removed]",
      "text/plain": [
       "<Figure size 640x480 with 1 Axes>"
      ]
     },
     "metadata": {},
     "output_type": "display_data"
    }
   ],
   "source": [
    "plt.imshow(images[87])\n",
    "plt.show"
   ]
  },
  {
   "cell_type": "code",
   "execution_count": 11,
   "id": "4c06ee35",
   "metadata": {},
   "outputs": [
    {
     "name": "stdout",
     "output_type": "stream",
     "text": [
      "100\n"
     ]
    }
   ],
   "source": [
    "print(ages[0])"
   ]
  },
  {
   "cell_type": "markdown",
   "id": "3ca97ddb",
   "metadata": {},
   "source": [
    "# #Convert those list values into array which is more efficient to use for further computation"
   ]
  },
  {
   "cell_type": "code",
   "execution_count": 12,
   "id": "425f72d9",
   "metadata": {},
   "outputs": [],
   "source": [
    "age_f=np.array(ages)\n",
    "gender_f=np.array(genders)\n",
    "image_f=np.array(images)"
   ]
  },
  {
   "cell_type": "markdown",
   "id": "5cdbb3ba",
   "metadata": {},
   "source": [
    "## Save those files in folder with .npy format as it is efficient for numpy"
   ]
  },
  {
   "cell_type": "code",
   "execution_count": 13,
   "id": "8d99885f",
   "metadata": {},
   "outputs": [],
   "source": [
    "#np.save(os.path.join(fldr, 'age.npy'), age_f)\n",
    "#np.save(os.path.join(fldr, 'gender.npy'), gender_f)\n",
    "#np.save(os.path.join(fldr, 'image.npy'), image_f)"
   ]
  },
  {
   "cell_type": "markdown",
   "id": "42157667",
   "metadata": {},
   "source": [
    "## Find no. of elements in dataset"
   ]
  },
  {
   "cell_type": "code",
   "execution_count": 14,
   "id": "1334d027",
   "metadata": {},
   "outputs": [
    {
     "name": "stdout",
     "output_type": "stream",
     "text": [
      "[12391 11317]\n"
     ]
    }
   ],
   "source": [
    "values,counts=np.unique(gender_f,return_counts=True)\n",
    "print(counts)"
   ]
  },
  {
   "cell_type": "code",
   "execution_count": 15,
   "id": "faa6e2af",
   "metadata": {},
   "outputs": [
    {
     "name": "stdout",
     "output_type": "stream",
     "text": [
      "[1123  482  289  273  196  131  139  263  166  156   65  130   81  157\n",
      "  177  247  158  262   98  284  346  395  426  859  734 2197  615  918\n",
      "  570  724  350  664  143  409  880  483  293  325  266  526  132  266\n",
      "  157  100  440  153  170  153  148  381  138  232  241  353  268  236\n",
      "   97  271   82  293  161  125  103   50  259   77   94  100   56  147\n",
      "   33   98   63   32  148   58   28   69   23  133   22   40   18   24\n",
      "  155   35   10   34   33   82    2   13    5    9   17    9   11    2\n",
      "    1    5    5    1    3    4]\n"
     ]
    }
   ],
   "source": [
    "values,counts=np.unique(age_f,return_counts=True)\n",
    "print(counts) "
   ]
  },
  {
   "cell_type": "code",
   "execution_count": 16,
   "id": "c6d609e0",
   "metadata": {},
   "outputs": [],
   "source": [
    "labels=[]\n",
    "i=0\n",
    "while i<len(ages):\n",
    "    label=[]\n",
    "    label.append(ages[i])\n",
    "    label.append(genders[i])\n",
    "    labels.append(label)\n",
    "    i=i+1"
   ]
  },
  {
   "cell_type": "code",
   "execution_count": 17,
   "id": "1b1e7377",
   "metadata": {},
   "outputs": [],
   "source": [
    "label_f=np.array(labels)"
   ]
  },
  {
   "cell_type": "code",
   "execution_count": 18,
   "id": "6b667cba",
   "metadata": {},
   "outputs": [
    {
     "data": {
      "text/plain": [
       "23708"
      ]
     },
     "execution_count": 18,
     "metadata": {},
     "output_type": "execute_result"
    }
   ],
   "source": [
    "len(labels)"
   ]
  },
  {
   "cell_type": "code",
   "execution_count": 19,
   "id": "60ff9571",
   "metadata": {},
   "outputs": [],
   "source": [
    "image_f_2=image_f/255"
   ]
  },
  {
   "cell_type": "code",
   "execution_count": 20,
   "id": "5e14aead",
   "metadata": {},
   "outputs": [
    {
     "data": {
      "text/plain": [
       "array([[[[0.82352941, 0.78823529, 0.76862745],\n",
       "         [0.75294118, 0.71764706, 0.69019608],\n",
       "         [0.57254902, 0.5372549 , 0.49803922],\n",
       "         ...,\n",
       "         [0.38823529, 0.39215686, 0.40392157],\n",
       "         [0.35686275, 0.37647059, 0.38039216],\n",
       "         [0.35686275, 0.37254902, 0.40392157]],\n",
       "\n",
       "        [[0.82745098, 0.79215686, 0.77254902],\n",
       "         [0.61176471, 0.57647059, 0.54901961],\n",
       "         [0.55686275, 0.5254902 , 0.48235294],\n",
       "         ...,\n",
       "         [0.41960784, 0.42745098, 0.42352941],\n",
       "         [0.38823529, 0.39215686, 0.40392157],\n",
       "         [0.37254902, 0.37254902, 0.41176471]],\n",
       "\n",
       "        [[0.79215686, 0.75686275, 0.7372549 ],\n",
       "         [0.67058824, 0.63529412, 0.60784314],\n",
       "         [0.62745098, 0.59607843, 0.55294118],\n",
       "         ...,\n",
       "         [0.55294118, 0.56078431, 0.54901961],\n",
       "         [0.44313725, 0.44313725, 0.45490196],\n",
       "         [0.4       , 0.39607843, 0.43529412]],\n",
       "\n",
       "        ...,\n",
       "\n",
       "        [[0.96862745, 0.96470588, 0.98823529],\n",
       "         [0.94509804, 0.94117647, 0.96470588],\n",
       "         [0.9372549 , 0.93333333, 0.95686275],\n",
       "         ...,\n",
       "         [0.4       , 0.39607843, 0.41960784],\n",
       "         [0.39215686, 0.38823529, 0.41176471],\n",
       "         [0.38823529, 0.38431373, 0.40784314]],\n",
       "\n",
       "        [[0.9372549 , 0.93333333, 0.95686275],\n",
       "         [0.92156863, 0.91764706, 0.94117647],\n",
       "         [0.90588235, 0.90196078, 0.9254902 ],\n",
       "         ...,\n",
       "         [0.38431373, 0.38039216, 0.40392157],\n",
       "         [0.38039216, 0.37647059, 0.4       ],\n",
       "         [0.37254902, 0.36862745, 0.39215686]],\n",
       "\n",
       "        [[0.9254902 , 0.92156863, 0.94509804],\n",
       "         [0.90588235, 0.90196078, 0.9254902 ],\n",
       "         [0.90196078, 0.89803922, 0.92156863],\n",
       "         ...,\n",
       "         [0.38823529, 0.38431373, 0.40784314],\n",
       "         [0.38039216, 0.37647059, 0.4       ],\n",
       "         [0.37254902, 0.36862745, 0.39215686]]],\n",
       "\n",
       "\n",
       "       [[[0.4745098 , 0.49019608, 0.53333333],\n",
       "         [0.47843137, 0.49411765, 0.53333333],\n",
       "         [0.43529412, 0.45490196, 0.47843137],\n",
       "         ...,\n",
       "         [0.63137255, 0.61960784, 0.64705882],\n",
       "         [0.6       , 0.61960784, 0.63529412],\n",
       "         [0.6       , 0.61960784, 0.63529412]],\n",
       "\n",
       "        [[0.47058824, 0.48627451, 0.5254902 ],\n",
       "         [0.4627451 , 0.47843137, 0.50588235],\n",
       "         [0.35294118, 0.37254902, 0.38823529],\n",
       "         ...,\n",
       "         [0.63921569, 0.63921569, 0.65490196],\n",
       "         [0.61568627, 0.63529412, 0.65098039],\n",
       "         [0.6       , 0.61960784, 0.63529412]],\n",
       "\n",
       "        [[0.47843137, 0.49803922, 0.52156863],\n",
       "         [0.41568627, 0.43529412, 0.45098039],\n",
       "         [0.3372549 , 0.36078431, 0.37254902],\n",
       "         ...,\n",
       "         [0.62745098, 0.65098039, 0.64313725],\n",
       "         [0.61960784, 0.63921569, 0.65490196],\n",
       "         [0.60784314, 0.62745098, 0.64313725]],\n",
       "\n",
       "        ...,\n",
       "\n",
       "        [[0.63921569, 0.63529412, 0.65882353],\n",
       "         [0.59215686, 0.58823529, 0.61176471],\n",
       "         [0.55294118, 0.54901961, 0.57254902],\n",
       "         ...,\n",
       "         [0.56862745, 0.58823529, 0.60392157],\n",
       "         [0.56078431, 0.58039216, 0.59607843],\n",
       "         [0.56470588, 0.58431373, 0.6       ]],\n",
       "\n",
       "        [[0.66666667, 0.6627451 , 0.68627451],\n",
       "         [0.61568627, 0.61176471, 0.63529412],\n",
       "         [0.58823529, 0.58431373, 0.60784314],\n",
       "         ...,\n",
       "         [0.55686275, 0.57647059, 0.58823529],\n",
       "         [0.56078431, 0.57254902, 0.59215686],\n",
       "         [0.56078431, 0.57254902, 0.59215686]],\n",
       "\n",
       "        [[0.6745098 , 0.66666667, 0.69019608],\n",
       "         [0.63529412, 0.63137255, 0.65490196],\n",
       "         [0.63529412, 0.63137255, 0.65490196],\n",
       "         ...,\n",
       "         [0.55686275, 0.56470588, 0.57647059],\n",
       "         [0.55294118, 0.56470588, 0.58431373],\n",
       "         [0.55294118, 0.56470588, 0.58431373]]],\n",
       "\n",
       "\n",
       "       [[[0.90588235, 0.92156863, 0.94901961],\n",
       "         [0.6       , 0.64705882, 0.7372549 ],\n",
       "         [0.38431373, 0.45490196, 0.56078431],\n",
       "         ...,\n",
       "         [0.10196078, 0.10980392, 0.14901961],\n",
       "         [0.3254902 , 0.35294118, 0.38431373],\n",
       "         [0.86666667, 0.89411765, 0.9254902 ]],\n",
       "\n",
       "        [[0.89019608, 0.91372549, 0.95686275],\n",
       "         [0.37254902, 0.42352941, 0.5254902 ],\n",
       "         [0.41176471, 0.47058824, 0.58431373],\n",
       "         ...,\n",
       "         [0.14509804, 0.14509804, 0.18431373],\n",
       "         [0.08235294, 0.10980392, 0.14117647],\n",
       "         [0.85882353, 0.88627451, 0.91764706]],\n",
       "\n",
       "        [[0.74117647, 0.77647059, 0.83921569],\n",
       "         [0.37254902, 0.43137255, 0.54117647],\n",
       "         [0.35686275, 0.41176471, 0.5254902 ],\n",
       "         ...,\n",
       "         [0.15686275, 0.15294118, 0.18431373],\n",
       "         [0.04705882, 0.07843137, 0.10588235],\n",
       "         [0.85098039, 0.87843137, 0.90980392]],\n",
       "\n",
       "        ...,\n",
       "\n",
       "        [[0.12156863, 0.14117647, 0.20784314],\n",
       "         [0.13333333, 0.23137255, 0.36862745],\n",
       "         [0.1254902 , 0.18431373, 0.30980392],\n",
       "         ...,\n",
       "         [0.04705882, 0.04313725, 0.0627451 ],\n",
       "         [0.06666667, 0.09411765, 0.16862745],\n",
       "         [0.04705882, 0.0745098 , 0.15294118]],\n",
       "\n",
       "        [[0.10588235, 0.15294118, 0.28627451],\n",
       "         [0.10588235, 0.3254902 , 0.59607843],\n",
       "         [0.0745098 , 0.23921569, 0.47843137],\n",
       "         ...,\n",
       "         [0.03529412, 0.03529412, 0.03529412],\n",
       "         [0.02745098, 0.05882353, 0.1254902 ],\n",
       "         [0.05098039, 0.08627451, 0.14901961]],\n",
       "\n",
       "        [[0.10980392, 0.22352941, 0.40784314],\n",
       "         [0.14509804, 0.3254902 , 0.56470588],\n",
       "         [0.00392157, 0.19607843, 0.44705882],\n",
       "         ...,\n",
       "         [0.52941176, 0.52941176, 0.52941176],\n",
       "         [0.67058824, 0.68235294, 0.68627451],\n",
       "         [0.81568627, 0.82352941, 0.83137255]]],\n",
       "\n",
       "\n",
       "       ...,\n",
       "\n",
       "\n",
       "       [[[0.85098039, 0.81568627, 0.77254902],\n",
       "         [0.82745098, 0.81568627, 0.7372549 ],\n",
       "         [0.77254902, 0.78039216, 0.69803922],\n",
       "         ...,\n",
       "         [0.8627451 , 0.82352941, 0.7254902 ],\n",
       "         [0.90196078, 0.83921569, 0.76078431],\n",
       "         [0.91764706, 0.85490196, 0.77647059]],\n",
       "\n",
       "        [[0.83137255, 0.80392157, 0.75294118],\n",
       "         [0.84313725, 0.83137255, 0.75686275],\n",
       "         [0.71764706, 0.72941176, 0.65098039],\n",
       "         ...,\n",
       "         [0.84313725, 0.81960784, 0.71764706],\n",
       "         [0.86666667, 0.83921569, 0.74901961],\n",
       "         [0.89411765, 0.86666667, 0.77647059]],\n",
       "\n",
       "        [[0.86666667, 0.85490196, 0.79215686],\n",
       "         [0.79607843, 0.8       , 0.71764706],\n",
       "         [0.6745098 , 0.69019608, 0.62745098],\n",
       "         ...,\n",
       "         [0.78039216, 0.77254902, 0.6627451 ],\n",
       "         [0.83921569, 0.81568627, 0.72156863],\n",
       "         [0.88235294, 0.85882353, 0.76470588]],\n",
       "\n",
       "        ...,\n",
       "\n",
       "        [[0.7372549 , 0.88235294, 0.81960784],\n",
       "         [0.65098039, 0.48235294, 0.39607843],\n",
       "         [0.75686275, 0.5254902 , 0.4       ],\n",
       "         ...,\n",
       "         [0.80784314, 0.81176471, 0.68627451],\n",
       "         [0.80392157, 0.80392157, 0.6745098 ],\n",
       "         [0.02745098, 0.02352941, 0.        ]],\n",
       "\n",
       "        [[0.73333333, 0.90196078, 0.83137255],\n",
       "         [0.69803922, 0.48627451, 0.38039216],\n",
       "         [0.8       , 0.50980392, 0.43529412],\n",
       "         ...,\n",
       "         [0.80392157, 0.80784314, 0.66666667],\n",
       "         [0.81176471, 0.81568627, 0.70196078],\n",
       "         [0.01176471, 0.00784314, 0.01176471]],\n",
       "\n",
       "        [[0.76470588, 0.93333333, 0.8627451 ],\n",
       "         [0.66666667, 0.45490196, 0.34901961],\n",
       "         [0.80784314, 0.51764706, 0.43921569],\n",
       "         ...,\n",
       "         [0.77254902, 0.77647059, 0.64705882],\n",
       "         [0.74117647, 0.74509804, 0.63529412],\n",
       "         [0.02745098, 0.02352941, 0.02745098]]],\n",
       "\n",
       "\n",
       "       [[[0.02745098, 0.03529412, 0.02745098],\n",
       "         [0.02745098, 0.03529412, 0.03137255],\n",
       "         [0.02352941, 0.03921569, 0.04313725],\n",
       "         ...,\n",
       "         [0.0745098 , 0.0627451 , 0.04313725],\n",
       "         [0.08235294, 0.07843137, 0.04705882],\n",
       "         [0.18823529, 0.18039216, 0.15686275]],\n",
       "\n",
       "        [[0.02745098, 0.03529412, 0.03137255],\n",
       "         [0.02745098, 0.03529412, 0.02745098],\n",
       "         [0.03529412, 0.03529412, 0.03137255],\n",
       "         ...,\n",
       "         [0.09019608, 0.08235294, 0.0627451 ],\n",
       "         [0.10196078, 0.10588235, 0.07843137],\n",
       "         [0.0745098 , 0.0745098 , 0.05490196]],\n",
       "\n",
       "        [[0.02352941, 0.03921569, 0.04313725],\n",
       "         [0.03529412, 0.03529412, 0.02745098],\n",
       "         [0.09019608, 0.08235294, 0.0627451 ],\n",
       "         ...,\n",
       "         [0.08235294, 0.07843137, 0.0627451 ],\n",
       "         [0.12941176, 0.1372549 , 0.11764706],\n",
       "         [0.04705882, 0.05098039, 0.03921569]],\n",
       "\n",
       "        ...,\n",
       "\n",
       "        [[0.09019608, 0.10588235, 0.10980392],\n",
       "         [0.07058824, 0.08627451, 0.09019608],\n",
       "         [0.07058824, 0.08627451, 0.09019608],\n",
       "         ...,\n",
       "         [0.1254902 , 0.14509804, 0.16078431],\n",
       "         [0.12156863, 0.16470588, 0.17254902],\n",
       "         [0.12156863, 0.16470588, 0.17254902]],\n",
       "\n",
       "        [[0.10196078, 0.1254902 , 0.1254902 ],\n",
       "         [0.07843137, 0.10196078, 0.10196078],\n",
       "         [0.0745098 , 0.09803922, 0.09803922],\n",
       "         ...,\n",
       "         [0.11764706, 0.14901961, 0.16078431],\n",
       "         [0.13333333, 0.16470588, 0.17647059],\n",
       "         [0.11764706, 0.14901961, 0.16078431]],\n",
       "\n",
       "        [[0.0627451 , 0.08627451, 0.08627451],\n",
       "         [0.09803922, 0.12156863, 0.12156863],\n",
       "         [0.09411765, 0.11764706, 0.11764706],\n",
       "         ...,\n",
       "         [0.11372549, 0.14509804, 0.15686275],\n",
       "         [0.1254902 , 0.15686275, 0.16862745],\n",
       "         [0.12156863, 0.15294118, 0.16470588]]],\n",
       "\n",
       "\n",
       "       [[[0.96078431, 0.68627451, 0.57254902],\n",
       "         [0.68627451, 0.47843137, 0.38431373],\n",
       "         [0.47058824, 0.34509804, 0.27843137],\n",
       "         ...,\n",
       "         [0.98431373, 0.97647059, 0.95686275],\n",
       "         [0.98039216, 0.99215686, 0.99215686],\n",
       "         [0.99607843, 0.96862745, 0.97647059]],\n",
       "\n",
       "        [[0.93333333, 0.66666667, 0.56470588],\n",
       "         [0.62352941, 0.41568627, 0.33333333],\n",
       "         [0.45490196, 0.32156863, 0.27843137],\n",
       "         ...,\n",
       "         [0.96862745, 0.99607843, 0.94901961],\n",
       "         [0.96078431, 0.98039216, 0.99607843],\n",
       "         [0.98431373, 0.97254902, 0.98823529]],\n",
       "\n",
       "        [[0.92941176, 0.64705882, 0.54117647],\n",
       "         [0.67058824, 0.43921569, 0.36078431],\n",
       "         [0.42352941, 0.25098039, 0.20392157],\n",
       "         ...,\n",
       "         [0.99215686, 0.98431373, 0.9254902 ],\n",
       "         [0.96862745, 0.98039216, 0.98039216],\n",
       "         [0.98823529, 0.96470588, 0.97254902]],\n",
       "\n",
       "        ...,\n",
       "\n",
       "        [[0.50980392, 0.29019608, 0.24313725],\n",
       "         [0.4       , 0.15294118, 0.1254902 ],\n",
       "         [0.41960784, 0.14901961, 0.15294118],\n",
       "         ...,\n",
       "         [0.5254902 , 0.31764706, 0.27843137],\n",
       "         [0.63921569, 0.39607843, 0.30196078],\n",
       "         [0.74509804, 0.50196078, 0.40784314]],\n",
       "\n",
       "        [[0.15294118, 0.00784314, 0.        ],\n",
       "         [0.24313725, 0.0627451 , 0.08627451],\n",
       "         [0.30196078, 0.0627451 , 0.13333333],\n",
       "         ...,\n",
       "         [0.17254902, 0.0745098 , 0.05490196],\n",
       "         [0.27058824, 0.09019608, 0.07058824],\n",
       "         [0.29411765, 0.10588235, 0.08627451]],\n",
       "\n",
       "        [[0.19215686, 0.03137255, 0.0627451 ],\n",
       "         [0.48627451, 0.29019608, 0.35294118],\n",
       "         [0.45098039, 0.19607843, 0.30588235],\n",
       "         ...,\n",
       "         [0.12941176, 0.02745098, 0.04313725],\n",
       "         [0.09019608, 0.05098039, 0.02745098],\n",
       "         [0.12941176, 0.08235294, 0.05490196]]]])"
      ]
     },
     "execution_count": 20,
     "metadata": {},
     "output_type": "execute_result"
    }
   ],
   "source": [
    "image_f_2"
   ]
  },
  {
   "cell_type": "code",
   "execution_count": 21,
   "id": "e28f3888",
   "metadata": {},
   "outputs": [
    {
     "data": {
      "text/plain": [
       "(23708, 48, 48, 3)"
      ]
     },
     "execution_count": 21,
     "metadata": {},
     "output_type": "execute_result"
    }
   ],
   "source": [
    "image_f_2.shape"
   ]
  },
  {
   "cell_type": "code",
   "execution_count": 22,
   "id": "b2e13541",
   "metadata": {},
   "outputs": [],
   "source": [
    "from sklearn.model_selection import train_test_split"
   ]
  },
  {
   "cell_type": "code",
   "execution_count": 23,
   "id": "4cebecbc",
   "metadata": {},
   "outputs": [],
   "source": [
    "x_train,x_test,y_train,y_test=train_test_split(image_f_2,label_f,test_size=0.25)"
   ]
  },
  {
   "cell_type": "code",
   "execution_count": 24,
   "id": "e8bf4874",
   "metadata": {},
   "outputs": [
    {
     "data": {
      "text/plain": [
       "array([[64,  0],\n",
       "       [80,  0],\n",
       "       [60,  1],\n",
       "       [45,  0],\n",
       "       [44,  1]])"
      ]
     },
     "execution_count": 24,
     "metadata": {},
     "output_type": "execute_result"
    }
   ],
   "source": [
    "y_train[0:5]"
   ]
  },
  {
   "cell_type": "code",
   "execution_count": 25,
   "id": "004bddd5",
   "metadata": {},
   "outputs": [
    {
     "data": {
      "text/plain": [
       "array([[[[0.58431373, 0.45098039, 0.34901961],\n",
       "         [0.64313725, 0.48235294, 0.37254902],\n",
       "         [0.69803922, 0.50196078, 0.38039216],\n",
       "         ...,\n",
       "         [0.14117647, 0.2       , 0.31372549],\n",
       "         [0.14509804, 0.2       , 0.31372549],\n",
       "         [0.14509804, 0.2       , 0.31372549]],\n",
       "\n",
       "        [[0.60392157, 0.47058824, 0.36470588],\n",
       "         [0.62745098, 0.46666667, 0.35686275],\n",
       "         [0.67058824, 0.4745098 , 0.35294118],\n",
       "         ...,\n",
       "         [0.1372549 , 0.19607843, 0.30196078],\n",
       "         [0.14509804, 0.2       , 0.31372549],\n",
       "         [0.14509804, 0.2       , 0.31372549]],\n",
       "\n",
       "        [[0.63529412, 0.50196078, 0.4       ],\n",
       "         [0.64705882, 0.48627451, 0.37647059],\n",
       "         [0.6745098 , 0.47843137, 0.35686275],\n",
       "         ...,\n",
       "         [0.1372549 , 0.2       , 0.29803922],\n",
       "         [0.14509804, 0.2       , 0.31372549],\n",
       "         [0.14509804, 0.2       , 0.31372549]],\n",
       "\n",
       "        ...,\n",
       "\n",
       "        [[0.50980392, 0.34901961, 0.29803922],\n",
       "         [0.56862745, 0.35686275, 0.24313725],\n",
       "         [0.60784314, 0.35294118, 0.22745098],\n",
       "         ...,\n",
       "         [0.1254902 , 0.18823529, 0.29019608],\n",
       "         [0.12156863, 0.18431373, 0.28235294],\n",
       "         [0.12941176, 0.19215686, 0.29019608]],\n",
       "\n",
       "        [[0.57254902, 0.43529412, 0.39215686],\n",
       "         [0.55294118, 0.36078431, 0.28235294],\n",
       "         [0.61176471, 0.37647059, 0.27843137],\n",
       "         ...,\n",
       "         [0.1254902 , 0.18431373, 0.29803922],\n",
       "         [0.1254902 , 0.18431373, 0.29803922],\n",
       "         [0.1254902 , 0.18431373, 0.29803922]],\n",
       "\n",
       "        [[0.68235294, 0.57647059, 0.54901961],\n",
       "         [0.56862745, 0.40784314, 0.34901961],\n",
       "         [0.54901961, 0.35294118, 0.27058824],\n",
       "         ...,\n",
       "         [0.11764706, 0.17647059, 0.29019608],\n",
       "         [0.11764706, 0.17647059, 0.29019608],\n",
       "         [0.11764706, 0.17647059, 0.29019608]]],\n",
       "\n",
       "\n",
       "       [[[0.2745098 , 0.28627451, 0.30588235],\n",
       "         [0.27058824, 0.29019608, 0.30588235],\n",
       "         [0.69019608, 0.7254902 , 0.7372549 ],\n",
       "         ...,\n",
       "         [0.43137255, 0.46666667, 0.50196078],\n",
       "         [0.47843137, 0.50588235, 0.54117647],\n",
       "         [0.62352941, 0.65098039, 0.68627451]],\n",
       "\n",
       "        [[0.27843137, 0.29019608, 0.30980392],\n",
       "         [0.27843137, 0.29803922, 0.31372549],\n",
       "         [0.68627451, 0.71764706, 0.72941176],\n",
       "         ...,\n",
       "         [0.43921569, 0.46666667, 0.49803922],\n",
       "         [0.44313725, 0.45490196, 0.4745098 ],\n",
       "         [0.35686275, 0.36862745, 0.38823529]],\n",
       "\n",
       "        [[0.25882353, 0.27058824, 0.29019608],\n",
       "         [0.25490196, 0.27058824, 0.28627451],\n",
       "         [0.75686275, 0.78823529, 0.8       ],\n",
       "         ...,\n",
       "         [0.32941176, 0.34117647, 0.36470588],\n",
       "         [0.20392157, 0.22352941, 0.24705882],\n",
       "         [0.22745098, 0.24313725, 0.27058824]],\n",
       "\n",
       "        ...,\n",
       "\n",
       "        [[0.51764706, 0.56078431, 0.58431373],\n",
       "         [0.45098039, 0.49411765, 0.51764706],\n",
       "         [0.62745098, 0.67058824, 0.69411765],\n",
       "         ...,\n",
       "         [0.        , 0.        , 0.        ],\n",
       "         [0.        , 0.        , 0.        ],\n",
       "         [0.        , 0.        , 0.        ]],\n",
       "\n",
       "        [[0.29019608, 0.31764706, 0.35686275],\n",
       "         [0.39607843, 0.42352941, 0.45490196],\n",
       "         [0.42745098, 0.45490196, 0.47843137],\n",
       "         ...,\n",
       "         [0.        , 0.        , 0.        ],\n",
       "         [0.        , 0.        , 0.        ],\n",
       "         [0.        , 0.        , 0.        ]],\n",
       "\n",
       "        [[0.38039216, 0.40784314, 0.44705882],\n",
       "         [0.19215686, 0.21960784, 0.25098039],\n",
       "         [0.22352941, 0.25490196, 0.27843137],\n",
       "         ...,\n",
       "         [0.        , 0.        , 0.        ],\n",
       "         [0.        , 0.        , 0.        ],\n",
       "         [0.        , 0.        , 0.        ]]],\n",
       "\n",
       "\n",
       "       [[[0.3254902 , 0.29019608, 0.27058824],\n",
       "         [0.24313725, 0.20784314, 0.18823529],\n",
       "         [0.2745098 , 0.23921569, 0.21960784],\n",
       "         ...,\n",
       "         [0.28627451, 0.21568627, 0.16862745],\n",
       "         [0.23137255, 0.18431373, 0.11764706],\n",
       "         [0.45098039, 0.4       , 0.34117647]],\n",
       "\n",
       "        [[0.22352941, 0.18823529, 0.16862745],\n",
       "         [0.22745098, 0.19215686, 0.17254902],\n",
       "         [0.23137255, 0.19607843, 0.17647059],\n",
       "         ...,\n",
       "         [0.31764706, 0.24705882, 0.2       ],\n",
       "         [0.28235294, 0.22352941, 0.16078431],\n",
       "         [0.33333333, 0.2745098 , 0.21960784]],\n",
       "\n",
       "        [[0.19607843, 0.16078431, 0.14117647],\n",
       "         [0.28235294, 0.24705882, 0.22745098],\n",
       "         [0.19607843, 0.16078431, 0.14117647],\n",
       "         ...,\n",
       "         [0.2627451 , 0.19215686, 0.14509804],\n",
       "         [0.27843137, 0.21176471, 0.14901961],\n",
       "         [0.29411765, 0.22352941, 0.16862745]],\n",
       "\n",
       "        ...,\n",
       "\n",
       "        [[0.39215686, 0.30196078, 0.25098039],\n",
       "         [0.45882353, 0.34117647, 0.30196078],\n",
       "         [0.41960784, 0.30980392, 0.26666667],\n",
       "         ...,\n",
       "         [0.25098039, 0.17647059, 0.12156863],\n",
       "         [0.16862745, 0.10588235, 0.05490196],\n",
       "         [0.18039216, 0.11764706, 0.06666667]],\n",
       "\n",
       "        [[0.39607843, 0.29411765, 0.24313725],\n",
       "         [0.49019608, 0.38823529, 0.3372549 ],\n",
       "         [0.38823529, 0.28627451, 0.23529412],\n",
       "         ...,\n",
       "         [0.23137255, 0.16078431, 0.11372549],\n",
       "         [0.15686275, 0.09019608, 0.0627451 ],\n",
       "         [0.17254902, 0.10588235, 0.07058824]],\n",
       "\n",
       "        [[0.39607843, 0.29411765, 0.24313725],\n",
       "         [0.49019608, 0.38823529, 0.3372549 ],\n",
       "         [0.34509804, 0.24313725, 0.19215686],\n",
       "         ...,\n",
       "         [0.21176471, 0.14117647, 0.09411765],\n",
       "         [0.20784314, 0.14117647, 0.10980392],\n",
       "         [0.16862745, 0.10196078, 0.06666667]]],\n",
       "\n",
       "\n",
       "       [[[0.30980392, 0.24705882, 0.17254902],\n",
       "         [0.42745098, 0.35294118, 0.25882353],\n",
       "         [0.41960784, 0.32941176, 0.20784314],\n",
       "         ...,\n",
       "         [0.65882353, 0.61568627, 0.61568627],\n",
       "         [0.6627451 , 0.65882353, 0.65098039],\n",
       "         [0.65098039, 0.65098039, 0.63921569]],\n",
       "\n",
       "        [[0.3372549 , 0.2745098 , 0.2       ],\n",
       "         [0.41960784, 0.34509804, 0.25098039],\n",
       "         [0.43137255, 0.34509804, 0.22352941],\n",
       "         ...,\n",
       "         [0.6627451 , 0.62352941, 0.61960784],\n",
       "         [0.64705882, 0.63529412, 0.62745098],\n",
       "         [0.66666667, 0.65490196, 0.65098039]],\n",
       "\n",
       "        [[0.34901961, 0.28235294, 0.20784314],\n",
       "         [0.41960784, 0.34117647, 0.24705882],\n",
       "         [0.43921569, 0.34901961, 0.22745098],\n",
       "         ...,\n",
       "         [0.68627451, 0.65098039, 0.63137255],\n",
       "         [0.66666667, 0.64313725, 0.64313725],\n",
       "         [0.6745098 , 0.65098039, 0.65098039]],\n",
       "\n",
       "        ...,\n",
       "\n",
       "        [[0.14509804, 0.12156863, 0.12156863],\n",
       "         [0.16470588, 0.12941176, 0.1254902 ],\n",
       "         [0.16078431, 0.12156863, 0.11372549],\n",
       "         ...,\n",
       "         [0.10588235, 0.09803922, 0.10980392],\n",
       "         [0.1254902 , 0.1254902 , 0.18431373],\n",
       "         [0.39215686, 0.50588235, 0.63137255]],\n",
       "\n",
       "        [[0.16470588, 0.12941176, 0.10588235],\n",
       "         [0.16470588, 0.1254902 , 0.1254902 ],\n",
       "         [0.15686275, 0.11764706, 0.11372549],\n",
       "         ...,\n",
       "         [0.10980392, 0.10980392, 0.11764706],\n",
       "         [0.21568627, 0.27843137, 0.37647059],\n",
       "         [0.28235294, 0.3254902 , 0.43529412]],\n",
       "\n",
       "        [[0.16470588, 0.12941176, 0.10588235],\n",
       "         [0.16470588, 0.1254902 , 0.1254902 ],\n",
       "         [0.15686275, 0.11764706, 0.11372549],\n",
       "         ...,\n",
       "         [0.08627451, 0.08627451, 0.09411765],\n",
       "         [0.34117647, 0.40392157, 0.49019608],\n",
       "         [0.04705882, 0.09019608, 0.19607843]]],\n",
       "\n",
       "\n",
       "       [[[0.47843137, 0.38431373, 0.29019608],\n",
       "         [0.45490196, 0.36078431, 0.26666667],\n",
       "         [0.41568627, 0.32156863, 0.22745098],\n",
       "         ...,\n",
       "         [0.38823529, 0.24313725, 0.2       ],\n",
       "         [0.37254902, 0.22352941, 0.17254902],\n",
       "         [0.38039216, 0.24313725, 0.18431373]],\n",
       "\n",
       "        [[0.47058824, 0.36862745, 0.27843137],\n",
       "         [0.43529412, 0.33333333, 0.24313725],\n",
       "         [0.39607843, 0.29411765, 0.20392157],\n",
       "         ...,\n",
       "         [0.38431373, 0.23529412, 0.19215686],\n",
       "         [0.36470588, 0.21568627, 0.17254902],\n",
       "         [0.36862745, 0.23137255, 0.18431373]],\n",
       "\n",
       "        [[0.47058824, 0.34901961, 0.26666667],\n",
       "         [0.42352941, 0.30196078, 0.21960784],\n",
       "         [0.4       , 0.27843137, 0.19607843],\n",
       "         ...,\n",
       "         [0.38039216, 0.23529412, 0.19215686],\n",
       "         [0.36862745, 0.21568627, 0.18823529],\n",
       "         [0.38431373, 0.24313725, 0.20784314]],\n",
       "\n",
       "        ...,\n",
       "\n",
       "        [[0.51372549, 0.42745098, 0.37254902],\n",
       "         [0.52156863, 0.43529412, 0.38431373],\n",
       "         [0.5372549 , 0.45098039, 0.40784314],\n",
       "         ...,\n",
       "         [0.58431373, 0.49803922, 0.44313725],\n",
       "         [0.57647059, 0.50588235, 0.44705882],\n",
       "         [0.65490196, 0.58039216, 0.5254902 ]],\n",
       "\n",
       "        [[0.51372549, 0.43921569, 0.38431373],\n",
       "         [0.5254902 , 0.44705882, 0.4       ],\n",
       "         [0.5372549 , 0.45882353, 0.42352941],\n",
       "         ...,\n",
       "         [0.56862745, 0.49803922, 0.44313725],\n",
       "         [0.59607843, 0.5254902 , 0.47058824],\n",
       "         [0.68235294, 0.61176471, 0.55686275]],\n",
       "\n",
       "        [[0.4745098 , 0.4       , 0.34117647],\n",
       "         [0.48627451, 0.40784314, 0.36078431],\n",
       "         [0.49803922, 0.41960784, 0.38431373],\n",
       "         ...,\n",
       "         [0.57254902, 0.50196078, 0.44705882],\n",
       "         [0.61960784, 0.54901961, 0.49019608],\n",
       "         [0.69411765, 0.62352941, 0.56470588]]]])"
      ]
     },
     "execution_count": 25,
     "metadata": {},
     "output_type": "execute_result"
    }
   ],
   "source": [
    "x_train[0:5]"
   ]
  },
  {
   "cell_type": "code",
   "execution_count": 26,
   "id": "76a309c8",
   "metadata": {},
   "outputs": [],
   "source": [
    "y_train_2=[y_train[:,1],y_train[:,0]]\n",
    "y_test_2=[y_test[:,1],y_test[:,0]]"
   ]
  },
  {
   "cell_type": "code",
   "execution_count": 27,
   "id": "4ae8ab58",
   "metadata": {},
   "outputs": [
    {
     "data": {
      "text/plain": [
       "array([0, 0, 1, 0, 1])"
      ]
     },
     "execution_count": 27,
     "metadata": {},
     "output_type": "execute_result"
    }
   ],
   "source": [
    "y_train_2[0][0:5]"
   ]
  },
  {
   "cell_type": "code",
   "execution_count": 28,
   "id": "894d74bc",
   "metadata": {},
   "outputs": [
    {
     "data": {
      "text/plain": [
       "array([52, 45, 26, 31, 26])"
      ]
     },
     "execution_count": 28,
     "metadata": {},
     "output_type": "execute_result"
    }
   ],
   "source": [
    "y_test_2[1][0:5]"
   ]
  },
  {
   "cell_type": "markdown",
   "id": "731e4c3e",
   "metadata": {},
   "source": [
    "## Defining model"
   ]
  },
  {
   "cell_type": "code",
   "execution_count": 29,
   "id": "ede27bca",
   "metadata": {},
   "outputs": [],
   "source": [
    "def Convulation(input_tensor,filters):\n",
    "    x=Conv2D(filters=filters,kernel_size=(3,3),padding=\"same\",strides=(1,1),kernel_regularizer=l2(0.001))(input_tensor)\n",
    "    x=Dropout(0.1)(x)\n",
    "    x=Activation('relu')(x)\n",
    "    return x"
   ]
  },
  {
   "cell_type": "code",
   "execution_count": 30,
   "id": "1635b7ae",
   "metadata": {},
   "outputs": [],
   "source": [
    "def model(input_shape):\n",
    "    inputs = Input(input_shape)\n",
    "    conv_1 = Conv2D(32, (3, 3), activation='relu')(inputs)\n",
    "    maxp_1 = MaxPooling2D(pool_size=(2, 2))(conv_1)\n",
    "    conv_2 = Conv2D(64, (3, 3), activation='relu')(maxp_1)\n",
    "    maxp_2 = MaxPooling2D(pool_size=(2, 2))(conv_2)\n",
    "    conv_3 = Conv2D(128, (3, 3), activation='relu')(maxp_2)\n",
    "    maxp_3 = MaxPooling2D(pool_size=(2, 2))(conv_3)\n",
    "    conv_4 = Conv2D(256, (3, 3), activation='relu')(maxp_3)\n",
    "    maxp_4 = MaxPooling2D(pool_size=(2, 2))(conv_4)\n",
    "    flatten = Flatten()(maxp_4)\n",
    "    dense_1 = Dense(64, activation='relu')(flatten)\n",
    "    dense_2 = Dense(64, activation='relu')(flatten)\n",
    "    drop_1 = Dropout(0.2)(dense_1)\n",
    "    drop_2 = Dropout(0.2)(dense_2)\n",
    "    output_1 = Dense(1, activation='sigmoid', name='sex_out')(drop_1)\n",
    "    output_2 = Dense(1, activation='relu', name='age_out')(drop_2)\n",
    "    model = Model(inputs=inputs, outputs=[output_1, output_2])\n",
    "    model.compile(loss=['binary_crossentropy', 'mae'], optimizer='Adam', metrics=['accuracy'])\n",
    "    return model"
   ]
  },
  {
   "cell_type": "code",
   "execution_count": 31,
   "id": "c44af36c",
   "metadata": {},
   "outputs": [],
   "source": [
    "Model = model((48, 48, 3))"
   ]
  },
  {
   "cell_type": "code",
   "execution_count": 32,
   "id": "bd40db6a",
   "metadata": {},
   "outputs": [
    {
     "name": "stdout",
     "output_type": "stream",
     "text": [
      "Model: \"model\"\n",
      "__________________________________________________________________________________________________\n",
      " Layer (type)                   Output Shape         Param #     Connected to                     \n",
      "==================================================================================================\n",
      " input_1 (InputLayer)           [(None, 48, 48, 3)]  0           []                               \n",
      "                                                                                                  \n",
      " conv2d (Conv2D)                (None, 46, 46, 32)   896         ['input_1[0][0]']                \n",
      "                                                                                                  \n",
      " max_pooling2d (MaxPooling2D)   (None, 23, 23, 32)   0           ['conv2d[0][0]']                 \n",
      "                                                                                                  \n",
      " conv2d_1 (Conv2D)              (None, 21, 21, 64)   18496       ['max_pooling2d[0][0]']          \n",
      "                                                                                                  \n",
      " max_pooling2d_1 (MaxPooling2D)  (None, 10, 10, 64)  0           ['conv2d_1[0][0]']               \n",
      "                                                                                                  \n",
      " conv2d_2 (Conv2D)              (None, 8, 8, 128)    73856       ['max_pooling2d_1[0][0]']        \n",
      "                                                                                                  \n",
      " max_pooling2d_2 (MaxPooling2D)  (None, 4, 4, 128)   0           ['conv2d_2[0][0]']               \n",
      "                                                                                                  \n",
      " conv2d_3 (Conv2D)              (None, 2, 2, 256)    295168      ['max_pooling2d_2[0][0]']        \n",
      "                                                                                                  \n",
      " max_pooling2d_3 (MaxPooling2D)  (None, 1, 1, 256)   0           ['conv2d_3[0][0]']               \n",
      "                                                                                                  \n",
      " flatten (Flatten)              (None, 256)          0           ['max_pooling2d_3[0][0]']        \n",
      "                                                                                                  \n",
      " dense (Dense)                  (None, 64)           16448       ['flatten[0][0]']                \n",
      "                                                                                                  \n",
      " dense_1 (Dense)                (None, 64)           16448       ['flatten[0][0]']                \n",
      "                                                                                                  \n",
      " dropout (Dropout)              (None, 64)           0           ['dense[0][0]']                  \n",
      "                                                                                                  \n",
      " dropout_1 (Dropout)            (None, 64)           0           ['dense_1[0][0]']                \n",
      "                                                                                                  \n",
      " sex_out (Dense)                (None, 1)            65          ['dropout[0][0]']                \n",
      "                                                                                                  \n",
      " age_out (Dense)                (None, 1)            65          ['dropout_1[0][0]']              \n",
      "                                                                                                  \n",
      "==================================================================================================\n",
      "Total params: 421,442\n",
      "Trainable params: 421,442\n",
      "Non-trainable params: 0\n",
      "__________________________________________________________________________________________________\n"
     ]
    }
   ],
   "source": [
    "Model.summary()"
   ]
  },
  {
   "cell_type": "code",
   "execution_count": 33,
   "id": "bcf61fd8",
   "metadata": {},
   "outputs": [],
   "source": [
    "from tensorflow.keras.callbacks import ModelCheckpoint"
   ]
  },
  {
   "cell_type": "code",
   "execution_count": 34,
   "id": "5277197a",
   "metadata": {},
   "outputs": [],
   "source": [
    "file_s='Age_sex_detection.h5'\n",
    "checkpoint=ModelCheckpoint(file_s,monitor='val_loss',verbose=1,save_best_only=True,save_weights_only=False,mode='auto',save_freq='epoch')\n",
    "Early_stop=tf.keras.callbacks.EarlyStopping(patience=75,monitor='val_loss',restore_best_weights='True')\n",
    "callback_list=[checkpoint,Early_stop]"
   ]
  },
  {
   "cell_type": "code",
   "execution_count": 35,
   "id": "e4d35af7",
   "metadata": {},
   "outputs": [
    {
     "name": "stdout",
     "output_type": "stream",
     "text": [
      "Epoch 1/30\n",
      "1111/1112 [============================>.] - ETA: 0s - loss: 15.8384 - sex_out_loss: 0.6862 - age_out_loss: 15.1522 - sex_out_accuracy: 0.5454 - age_out_accuracy: 0.0462\n",
      "Epoch 1: val_loss improved from inf to 13.03775, saving model to Age_sex_detection.h5\n",
      "1112/1112 [==============================] - 36s 30ms/step - loss: 15.8383 - sex_out_loss: 0.6862 - age_out_loss: 15.1522 - sex_out_accuracy: 0.5455 - age_out_accuracy: 0.0462 - val_loss: 13.0377 - val_sex_out_loss: 0.6090 - val_age_out_loss: 12.4288 - val_sex_out_accuracy: 0.6848 - val_age_out_accuracy: 0.0504\n",
      "Epoch 2/30\n",
      "1110/1112 [============================>.] - ETA: 0s - loss: 13.1525 - sex_out_loss: 0.6135 - age_out_loss: 12.5390 - sex_out_accuracy: 0.6709 - age_out_accuracy: 0.0463\n",
      "Epoch 2: val_loss improved from 13.03775 to 11.64403, saving model to Age_sex_detection.h5\n",
      "1112/1112 [==============================] - 33s 30ms/step - loss: 13.1477 - sex_out_loss: 0.6135 - age_out_loss: 12.5342 - sex_out_accuracy: 0.6708 - age_out_accuracy: 0.0463 - val_loss: 11.6440 - val_sex_out_loss: 0.5861 - val_age_out_loss: 11.0579 - val_sex_out_accuracy: 0.6966 - val_age_out_accuracy: 0.0504\n",
      "Epoch 3/30\n",
      "1111/1112 [============================>.] - ETA: 0s - loss: 11.6495 - sex_out_loss: 0.5720 - age_out_loss: 11.0776 - sex_out_accuracy: 0.7080 - age_out_accuracy: 0.0434\n",
      "Epoch 3: val_loss improved from 11.64403 to 11.33733, saving model to Age_sex_detection.h5\n",
      "1112/1112 [==============================] - 33s 30ms/step - loss: 11.6491 - sex_out_loss: 0.5720 - age_out_loss: 11.0771 - sex_out_accuracy: 0.7081 - age_out_accuracy: 0.0434 - val_loss: 11.3373 - val_sex_out_loss: 0.5425 - val_age_out_loss: 10.7948 - val_sex_out_accuracy: 0.7299 - val_age_out_accuracy: 0.0504\n",
      "Epoch 4/30\n",
      "1112/1112 [==============================] - ETA: 0s - loss: 10.3607 - sex_out_loss: 0.5327 - age_out_loss: 9.8279 - sex_out_accuracy: 0.7391 - age_out_accuracy: 0.0385\n",
      "Epoch 4: val_loss improved from 11.33733 to 8.92175, saving model to Age_sex_detection.h5\n",
      "1112/1112 [==============================] - 30s 27ms/step - loss: 10.3607 - sex_out_loss: 0.5327 - age_out_loss: 9.8279 - sex_out_accuracy: 0.7391 - age_out_accuracy: 0.0385 - val_loss: 8.9217 - val_sex_out_loss: 0.4694 - val_age_out_loss: 8.4523 - val_sex_out_accuracy: 0.7744 - val_age_out_accuracy: 0.0504\n",
      "Epoch 5/30\n",
      "1112/1112 [==============================] - ETA: 0s - loss: 9.4381 - sex_out_loss: 0.4562 - age_out_loss: 8.9819 - sex_out_accuracy: 0.7879 - age_out_accuracy: 0.0307\n",
      "Epoch 5: val_loss did not improve from 8.92175\n",
      "1112/1112 [==============================] - 30s 27ms/step - loss: 9.4381 - sex_out_loss: 0.4562 - age_out_loss: 8.9819 - sex_out_accuracy: 0.7879 - age_out_accuracy: 0.0307 - val_loss: 9.2014 - val_sex_out_loss: 0.3921 - val_age_out_loss: 8.8093 - val_sex_out_accuracy: 0.8201 - val_age_out_accuracy: 0.0316\n",
      "Epoch 6/30\n",
      "1111/1112 [============================>.] - ETA: 0s - loss: 8.8251 - sex_out_loss: 0.4084 - age_out_loss: 8.4167 - sex_out_accuracy: 0.8135 - age_out_accuracy: 0.0258\n",
      "Epoch 6: val_loss improved from 8.92175 to 8.33504, saving model to Age_sex_detection.h5\n",
      "1112/1112 [==============================] - 30s 27ms/step - loss: 8.8238 - sex_out_loss: 0.4085 - age_out_loss: 8.4153 - sex_out_accuracy: 0.8134 - age_out_accuracy: 0.0258 - val_loss: 8.3350 - val_sex_out_loss: 0.3619 - val_age_out_loss: 7.9732 - val_sex_out_accuracy: 0.8343 - val_age_out_accuracy: 0.0344\n",
      "Epoch 7/30\n",
      "1110/1112 [============================>.] - ETA: 0s - loss: 8.4206 - sex_out_loss: 0.3735 - age_out_loss: 8.0472 - sex_out_accuracy: 0.8310 - age_out_accuracy: 0.0248\n",
      "Epoch 7: val_loss improved from 8.33504 to 7.73805, saving model to Age_sex_detection.h5\n",
      "1112/1112 [==============================] - 32s 29ms/step - loss: 8.4227 - sex_out_loss: 0.3734 - age_out_loss: 8.0493 - sex_out_accuracy: 0.8310 - age_out_accuracy: 0.0248 - val_loss: 7.7380 - val_sex_out_loss: 0.3759 - val_age_out_loss: 7.3621 - val_sex_out_accuracy: 0.8186 - val_age_out_accuracy: 0.0084\n",
      "Epoch 8/30\n",
      "1111/1112 [============================>.] - ETA: 0s - loss: 8.1424 - sex_out_loss: 0.3483 - age_out_loss: 7.7941 - sex_out_accuracy: 0.8445 - age_out_accuracy: 0.0257\n",
      "Epoch 8: val_loss improved from 7.73805 to 7.68067, saving model to Age_sex_detection.h5\n",
      "1112/1112 [==============================] - 32s 29ms/step - loss: 8.1425 - sex_out_loss: 0.3483 - age_out_loss: 7.7942 - sex_out_accuracy: 0.8446 - age_out_accuracy: 0.0257 - val_loss: 7.6807 - val_sex_out_loss: 0.3294 - val_age_out_loss: 7.3513 - val_sex_out_accuracy: 0.8456 - val_age_out_accuracy: 0.0172\n",
      "Epoch 9/30\n",
      "1111/1112 [============================>.] - ETA: 0s - loss: 7.8270 - sex_out_loss: 0.3363 - age_out_loss: 7.4907 - sex_out_accuracy: 0.8487 - age_out_accuracy: 0.0218\n",
      "Epoch 9: val_loss did not improve from 7.68067\n",
      "1112/1112 [==============================] - 31s 28ms/step - loss: 7.8267 - sex_out_loss: 0.3363 - age_out_loss: 7.4905 - sex_out_accuracy: 0.8487 - age_out_accuracy: 0.0218 - val_loss: 8.3674 - val_sex_out_loss: 0.3343 - val_age_out_loss: 8.0331 - val_sex_out_accuracy: 0.8476 - val_age_out_accuracy: 0.0290\n",
      "Epoch 10/30\n",
      "1110/1112 [============================>.] - ETA: 0s - loss: 7.6191 - sex_out_loss: 0.3203 - age_out_loss: 7.2988 - sex_out_accuracy: 0.8559 - age_out_accuracy: 0.0240\n",
      "Epoch 10: val_loss did not improve from 7.68067\n",
      "1112/1112 [==============================] - 31s 28ms/step - loss: 7.6199 - sex_out_loss: 0.3206 - age_out_loss: 7.2993 - sex_out_accuracy: 0.8558 - age_out_accuracy: 0.0240 - val_loss: 7.8398 - val_sex_out_loss: 0.3126 - val_age_out_loss: 7.5272 - val_sex_out_accuracy: 0.8551 - val_age_out_accuracy: 0.0081\n",
      "Epoch 11/30\n",
      "1111/1112 [============================>.] - ETA: 0s - loss: 7.3859 - sex_out_loss: 0.3139 - age_out_loss: 7.0720 - sex_out_accuracy: 0.8584 - age_out_accuracy: 0.0212\n",
      "Epoch 11: val_loss improved from 7.68067 to 7.45442, saving model to Age_sex_detection.h5\n",
      "1112/1112 [==============================] - 31s 28ms/step - loss: 7.3865 - sex_out_loss: 0.3139 - age_out_loss: 7.0726 - sex_out_accuracy: 0.8584 - age_out_accuracy: 0.0212 - val_loss: 7.4544 - val_sex_out_loss: 0.3082 - val_age_out_loss: 7.1463 - val_sex_out_accuracy: 0.8546 - val_age_out_accuracy: 0.0233\n",
      "Epoch 12/30\n",
      "1110/1112 [============================>.] - ETA: 0s - loss: 7.1532 - sex_out_loss: 0.3035 - age_out_loss: 6.8497 - sex_out_accuracy: 0.8649 - age_out_accuracy: 0.0253\n",
      "Epoch 12: val_loss improved from 7.45442 to 7.39445, saving model to Age_sex_detection.h5\n",
      "1112/1112 [==============================] - 31s 28ms/step - loss: 7.1564 - sex_out_loss: 0.3034 - age_out_loss: 6.8530 - sex_out_accuracy: 0.8649 - age_out_accuracy: 0.0254 - val_loss: 7.3945 - val_sex_out_loss: 0.3066 - val_age_out_loss: 7.0878 - val_sex_out_accuracy: 0.8574 - val_age_out_accuracy: 0.0358\n",
      "Epoch 13/30\n",
      "1110/1112 [============================>.] - ETA: 0s - loss: 6.9915 - sex_out_loss: 0.2927 - age_out_loss: 6.6987 - sex_out_accuracy: 0.8704 - age_out_accuracy: 0.0234\n",
      "Epoch 13: val_loss improved from 7.39445 to 7.22309, saving model to Age_sex_detection.h5\n",
      "1112/1112 [==============================] - 31s 27ms/step - loss: 6.9919 - sex_out_loss: 0.2927 - age_out_loss: 6.6992 - sex_out_accuracy: 0.8704 - age_out_accuracy: 0.0235 - val_loss: 7.2231 - val_sex_out_loss: 0.3085 - val_age_out_loss: 6.9146 - val_sex_out_accuracy: 0.8544 - val_age_out_accuracy: 0.0263\n",
      "Epoch 14/30\n",
      "1111/1112 [============================>.] - ETA: 0s - loss: 6.8456 - sex_out_loss: 0.2894 - age_out_loss: 6.5562 - sex_out_accuracy: 0.8736 - age_out_accuracy: 0.0258\n",
      "Epoch 14: val_loss improved from 7.22309 to 7.18988, saving model to Age_sex_detection.h5\n",
      "1112/1112 [==============================] - 30s 27ms/step - loss: 6.8444 - sex_out_loss: 0.2895 - age_out_loss: 6.5549 - sex_out_accuracy: 0.8736 - age_out_accuracy: 0.0259 - val_loss: 7.1899 - val_sex_out_loss: 0.3038 - val_age_out_loss: 6.8861 - val_sex_out_accuracy: 0.8591 - val_age_out_accuracy: 0.0267\n",
      "Epoch 15/30\n",
      "1111/1112 [============================>.] - ETA: 0s - loss: 6.7010 - sex_out_loss: 0.2827 - age_out_loss: 6.4182 - sex_out_accuracy: 0.8766 - age_out_accuracy: 0.0294\n",
      "Epoch 15: val_loss improved from 7.18988 to 7.08092, saving model to Age_sex_detection.h5\n",
      "1112/1112 [==============================] - 30s 27ms/step - loss: 6.7007 - sex_out_loss: 0.2827 - age_out_loss: 6.4181 - sex_out_accuracy: 0.8766 - age_out_accuracy: 0.0294 - val_loss: 7.0809 - val_sex_out_loss: 0.2911 - val_age_out_loss: 6.7898 - val_sex_out_accuracy: 0.8627 - val_age_out_accuracy: 0.0337\n",
      "Epoch 16/30\n",
      "1112/1112 [==============================] - ETA: 0s - loss: 6.5522 - sex_out_loss: 0.2863 - age_out_loss: 6.2660 - sex_out_accuracy: 0.8759 - age_out_accuracy: 0.0261\n",
      "Epoch 16: val_loss improved from 7.08092 to 7.05905, saving model to Age_sex_detection.h5\n",
      "1112/1112 [==============================] - 32s 29ms/step - loss: 6.5522 - sex_out_loss: 0.2863 - age_out_loss: 6.2660 - sex_out_accuracy: 0.8759 - age_out_accuracy: 0.0261 - val_loss: 7.0591 - val_sex_out_loss: 0.2939 - val_age_out_loss: 6.7651 - val_sex_out_accuracy: 0.8638 - val_age_out_accuracy: 0.0268\n",
      "Epoch 17/30\n",
      "1111/1112 [============================>.] - ETA: 0s - loss: 6.4678 - sex_out_loss: 0.2790 - age_out_loss: 6.1888 - sex_out_accuracy: 0.8779 - age_out_accuracy: 0.0278\n",
      "Epoch 17: val_loss improved from 7.05905 to 7.01538, saving model to Age_sex_detection.h5\n",
      "1112/1112 [==============================] - 30s 27ms/step - loss: 6.4673 - sex_out_loss: 0.2790 - age_out_loss: 6.1884 - sex_out_accuracy: 0.8779 - age_out_accuracy: 0.0278 - val_loss: 7.0154 - val_sex_out_loss: 0.2934 - val_age_out_loss: 6.7220 - val_sex_out_accuracy: 0.8662 - val_age_out_accuracy: 0.0334\n",
      "Epoch 18/30\n",
      "1110/1112 [============================>.] - ETA: 0s - loss: 6.2837 - sex_out_loss: 0.2704 - age_out_loss: 6.0134 - sex_out_accuracy: 0.8796 - age_out_accuracy: 0.0287\n",
      "Epoch 18: val_loss did not improve from 7.01538\n",
      "1112/1112 [==============================] - 30s 27ms/step - loss: 6.2869 - sex_out_loss: 0.2704 - age_out_loss: 6.0165 - sex_out_accuracy: 0.8795 - age_out_accuracy: 0.0287 - val_loss: 7.2122 - val_sex_out_loss: 0.3051 - val_age_out_loss: 6.9072 - val_sex_out_accuracy: 0.8576 - val_age_out_accuracy: 0.0282\n",
      "Epoch 19/30\n",
      "1111/1112 [============================>.] - ETA: 0s - loss: 6.1836 - sex_out_loss: 0.2677 - age_out_loss: 5.9159 - sex_out_accuracy: 0.8822 - age_out_accuracy: 0.0266\n",
      "Epoch 19: val_loss did not improve from 7.01538\n",
      "1112/1112 [==============================] - 30s 27ms/step - loss: 6.1836 - sex_out_loss: 0.2681 - age_out_loss: 5.9155 - sex_out_accuracy: 0.8821 - age_out_accuracy: 0.0265 - val_loss: 7.0989 - val_sex_out_loss: 0.3023 - val_age_out_loss: 6.7966 - val_sex_out_accuracy: 0.8643 - val_age_out_accuracy: 0.0272\n",
      "Epoch 20/30\n",
      "1112/1112 [==============================] - ETA: 0s - loss: 6.0762 - sex_out_loss: 0.2628 - age_out_loss: 5.8134 - sex_out_accuracy: 0.8840 - age_out_accuracy: 0.0314\n",
      "Epoch 20: val_loss did not improve from 7.01538\n",
      "1112/1112 [==============================] - 31s 28ms/step - loss: 6.0762 - sex_out_loss: 0.2628 - age_out_loss: 5.8134 - sex_out_accuracy: 0.8840 - age_out_accuracy: 0.0314 - val_loss: 7.1248 - val_sex_out_loss: 0.2975 - val_age_out_loss: 6.8274 - val_sex_out_accuracy: 0.8608 - val_age_out_accuracy: 0.0412\n",
      "Epoch 21/30\n",
      "1112/1112 [==============================] - ETA: 0s - loss: 6.0669 - sex_out_loss: 0.2635 - age_out_loss: 5.8035 - sex_out_accuracy: 0.8866 - age_out_accuracy: 0.0237\n",
      "Epoch 21: val_loss did not improve from 7.01538\n",
      "1112/1112 [==============================] - 31s 28ms/step - loss: 6.0669 - sex_out_loss: 0.2635 - age_out_loss: 5.8035 - sex_out_accuracy: 0.8866 - age_out_accuracy: 0.0237 - val_loss: 7.0838 - val_sex_out_loss: 0.3055 - val_age_out_loss: 6.7782 - val_sex_out_accuracy: 0.8615 - val_age_out_accuracy: 0.0407\n",
      "Epoch 22/30\n",
      "1110/1112 [============================>.] - ETA: 0s - loss: 5.7898 - sex_out_loss: 0.2584 - age_out_loss: 5.5315 - sex_out_accuracy: 0.8880 - age_out_accuracy: 0.0276\n",
      "Epoch 22: val_loss improved from 7.01538 to 6.97284, saving model to Age_sex_detection.h5\n",
      "1112/1112 [==============================] - 30s 27ms/step - loss: 5.7895 - sex_out_loss: 0.2584 - age_out_loss: 5.5311 - sex_out_accuracy: 0.8880 - age_out_accuracy: 0.0277 - val_loss: 6.9728 - val_sex_out_loss: 0.2957 - val_age_out_loss: 6.6771 - val_sex_out_accuracy: 0.8667 - val_age_out_accuracy: 0.0322\n",
      "Epoch 23/30\n",
      "1110/1112 [============================>.] - ETA: 0s - loss: 5.7630 - sex_out_loss: 0.2546 - age_out_loss: 5.5084 - sex_out_accuracy: 0.8888 - age_out_accuracy: 0.0264\n",
      "Epoch 23: val_loss did not improve from 6.97284\n",
      "1112/1112 [==============================] - 30s 27ms/step - loss: 5.7628 - sex_out_loss: 0.2546 - age_out_loss: 5.5082 - sex_out_accuracy: 0.8887 - age_out_accuracy: 0.0263 - val_loss: 7.1742 - val_sex_out_loss: 0.2924 - val_age_out_loss: 6.8818 - val_sex_out_accuracy: 0.8664 - val_age_out_accuracy: 0.0312\n",
      "Epoch 24/30\n",
      "1111/1112 [============================>.] - ETA: 0s - loss: 5.6881 - sex_out_loss: 0.2505 - age_out_loss: 5.4376 - sex_out_accuracy: 0.8929 - age_out_accuracy: 0.0281\n",
      "Epoch 24: val_loss improved from 6.97284 to 6.84481, saving model to Age_sex_detection.h5\n",
      "1112/1112 [==============================] - 30s 27ms/step - loss: 5.6872 - sex_out_loss: 0.2506 - age_out_loss: 5.4366 - sex_out_accuracy: 0.8929 - age_out_accuracy: 0.0281 - val_loss: 6.8448 - val_sex_out_loss: 0.3007 - val_age_out_loss: 6.5441 - val_sex_out_accuracy: 0.8628 - val_age_out_accuracy: 0.0310\n",
      "Epoch 25/30\n",
      "1112/1112 [==============================] - ETA: 0s - loss: 5.6066 - sex_out_loss: 0.2437 - age_out_loss: 5.3628 - sex_out_accuracy: 0.8942 - age_out_accuracy: 0.0303\n",
      "Epoch 25: val_loss did not improve from 6.84481\n",
      "1112/1112 [==============================] - 30s 27ms/step - loss: 5.6066 - sex_out_loss: 0.2437 - age_out_loss: 5.3628 - sex_out_accuracy: 0.8942 - age_out_accuracy: 0.0303 - val_loss: 7.7599 - val_sex_out_loss: 0.3207 - val_age_out_loss: 7.4393 - val_sex_out_accuracy: 0.8579 - val_age_out_accuracy: 0.0358\n",
      "Epoch 26/30\n",
      "1111/1112 [============================>.] - ETA: 0s - loss: 5.5253 - sex_out_loss: 0.2448 - age_out_loss: 5.2804 - sex_out_accuracy: 0.8937 - age_out_accuracy: 0.0301\n",
      "Epoch 26: val_loss did not improve from 6.84481\n",
      "1112/1112 [==============================] - 30s 27ms/step - loss: 5.5242 - sex_out_loss: 0.2448 - age_out_loss: 5.2793 - sex_out_accuracy: 0.8937 - age_out_accuracy: 0.0301 - val_loss: 6.9774 - val_sex_out_loss: 0.3025 - val_age_out_loss: 6.6749 - val_sex_out_accuracy: 0.8664 - val_age_out_accuracy: 0.0319\n",
      "Epoch 27/30\n",
      "1112/1112 [==============================] - ETA: 0s - loss: 5.4898 - sex_out_loss: 0.2389 - age_out_loss: 5.2509 - sex_out_accuracy: 0.8959 - age_out_accuracy: 0.0325\n",
      "Epoch 27: val_loss did not improve from 6.84481\n",
      "1112/1112 [==============================] - 30s 27ms/step - loss: 5.4898 - sex_out_loss: 0.2389 - age_out_loss: 5.2509 - sex_out_accuracy: 0.8959 - age_out_accuracy: 0.0325 - val_loss: 6.8783 - val_sex_out_loss: 0.2913 - val_age_out_loss: 6.5870 - val_sex_out_accuracy: 0.8679 - val_age_out_accuracy: 0.0390\n",
      "Epoch 28/30\n",
      "1111/1112 [============================>.] - ETA: 0s - loss: 5.3586 - sex_out_loss: 0.2347 - age_out_loss: 5.1239 - sex_out_accuracy: 0.8965 - age_out_accuracy: 0.0341\n",
      "Epoch 28: val_loss did not improve from 6.84481\n",
      "1112/1112 [==============================] - 30s 27ms/step - loss: 5.3577 - sex_out_loss: 0.2347 - age_out_loss: 5.1230 - sex_out_accuracy: 0.8965 - age_out_accuracy: 0.0341 - val_loss: 7.1150 - val_sex_out_loss: 0.2978 - val_age_out_loss: 6.8172 - val_sex_out_accuracy: 0.8633 - val_age_out_accuracy: 0.0403\n",
      "Epoch 29/30\n",
      "1111/1112 [============================>.] - ETA: 0s - loss: 5.2307 - sex_out_loss: 0.2336 - age_out_loss: 4.9971 - sex_out_accuracy: 0.8980 - age_out_accuracy: 0.0338\n",
      "Epoch 29: val_loss did not improve from 6.84481\n",
      "1112/1112 [==============================] - 31s 28ms/step - loss: 5.2311 - sex_out_loss: 0.2336 - age_out_loss: 4.9976 - sex_out_accuracy: 0.8980 - age_out_accuracy: 0.0338 - val_loss: 7.0562 - val_sex_out_loss: 0.3102 - val_age_out_loss: 6.7459 - val_sex_out_accuracy: 0.8642 - val_age_out_accuracy: 0.0447\n",
      "Epoch 30/30\n",
      "1112/1112 [==============================] - ETA: 0s - loss: 5.2142 - sex_out_loss: 0.2307 - age_out_loss: 4.9834 - sex_out_accuracy: 0.9004 - age_out_accuracy: 0.0361\n",
      "Epoch 30: val_loss did not improve from 6.84481\n",
      "1112/1112 [==============================] - 35s 31ms/step - loss: 5.2142 - sex_out_loss: 0.2307 - age_out_loss: 4.9834 - sex_out_accuracy: 0.9004 - age_out_accuracy: 0.0361 - val_loss: 7.2181 - val_sex_out_loss: 0.3587 - val_age_out_loss: 6.8594 - val_sex_out_accuracy: 0.8515 - val_age_out_accuracy: 0.0462\n"
     ]
    }
   ],
   "source": [
    "History=Model.fit(x_train,y_train_2,batch_size=16,validation_data=(x_test,y_test_2),epochs=30,callbacks=callback_list)"
   ]
  },
  {
   "cell_type": "code",
   "execution_count": 36,
   "id": "46d5c9c1",
   "metadata": {},
   "outputs": [
    {
     "name": "stdout",
     "output_type": "stream",
     "text": [
      "186/186 [==============================] - 2s 10ms/step - loss: 7.2181 - sex_out_loss: 0.3587 - age_out_loss: 6.8594 - sex_out_accuracy: 0.8515 - age_out_accuracy: 0.0462\n"
     ]
    },
    {
     "data": {
      "text/plain": [
       "[7.2181010246276855,\n",
       " 0.358663409948349,\n",
       " 6.859438419342041,\n",
       " 0.8515269160270691,\n",
       " 0.04622912034392357]"
      ]
     },
     "execution_count": 36,
     "metadata": {},
     "output_type": "execute_result"
    }
   ],
   "source": [
    "Model.evaluate(x_test,y_test_2)"
   ]
  },
  {
   "cell_type": "code",
   "execution_count": 37,
   "id": "2e8ad3b8",
   "metadata": {},
   "outputs": [
    {
     "name": "stdout",
     "output_type": "stream",
     "text": [
      "186/186 [==============================] - 2s 10ms/step\n"
     ]
    }
   ],
   "source": [
    "pred=Model.predict(x_test)"
   ]
  },
  {
   "cell_type": "code",
   "execution_count": 38,
   "id": "1d7ec64c",
   "metadata": {},
   "outputs": [
    {
     "data": {
      "text/plain": [
       "array([[48.487804],\n",
       "       [38.410877],\n",
       "       [17.005308],\n",
       "       ...,\n",
       "       [34.261032],\n",
       "       [32.92853 ],\n",
       "       [25.377539]], dtype=float32)"
      ]
     },
     "execution_count": 38,
     "metadata": {},
     "output_type": "execute_result"
    }
   ],
   "source": [
    "pred[1]"
   ]
  },
  {
   "cell_type": "markdown",
   "id": "3a8b2fb0",
   "metadata": {},
   "source": [
    "## Plotting Loss"
   ]
  },
  {
   "cell_type": "code",
   "execution_count": 39,
   "id": "08314a48",
   "metadata": {},
   "outputs": [
    {
     "data": {
      "image/png": "[encoded data removed]",
      "text/plain": [
       "<Figure size 640x480 with 1 Axes>"
      ]
     },
     "metadata": {},
     "output_type": "display_data"
    }
   ],
   "source": [
    "plt.plot(History.history['loss'])\n",
    "plt.plot(History.history['val_loss'])\n",
    "plt.title('Model Loss')\n",
    "plt.xlabel('Epoch')\n",
    "plt.ylabel('Loss')\n",
    "plt.legend(['Train','Validation'],loc='upper left')\n",
    "plt.subplots_adjust(top=1.0,bottom=0.0,right=0.95,left=0,hspace=0.25,wspace=0.35)"
   ]
  },
  {
   "cell_type": "markdown",
   "id": "a44e5457",
   "metadata": {},
   "source": [
    "## Plotting sex accuracy"
   ]
  },
  {
   "cell_type": "code",
   "execution_count": 40,
   "id": "d0c5d728",
   "metadata": {},
   "outputs": [
    {
     "data": {
      "image/png": "[encoded data removed]",
      "text/plain": [
       "<Figure size 640x480 with 1 Axes>"
      ]
     },
     "metadata": {},
     "output_type": "display_data"
    }
   ],
   "source": [
    "plt.plot(History.history['sex_out_accuracy'])\n",
    "plt.plot(History.history['val_sex_out_accuracy'])\n",
    "plt.title('Model Accuracy')\n",
    "plt.xlabel('Epoch')\n",
    "plt.ylabel('accuracy')\n",
    "plt.legend(['Train','Validation'],loc='upper left')\n",
    "plt.subplots_adjust(top=1.0,bottom=0.0,right=0.95,left=0,hspace=0.25,wspace=0.35)"
   ]
  },
  {
   "cell_type": "markdown",
   "id": "9bfcdfe9",
   "metadata": {},
   "source": [
    "## Plotting Gender Accuracy"
   ]
  },
  {
   "cell_type": "code",
   "execution_count": 41,
   "id": "ca9b86ec",
   "metadata": {},
   "outputs": [
    {
     "data": {
      "image/png": "[encoded data removed]",
      "text/plain": [
       "<Figure size 640x480 with 1 Axes>"
      ]
     },
     "metadata": {},
     "output_type": "display_data"
    }
   ],
   "source": [
    "fig,ax=plt.subplots()\n",
    "ax.scatter(y_test_2[1],pred[1])\n",
    "ax.plot([y_test_2[1].min(),y_test_2[1].max()],[y_test_2[1].min(),y_test_2[1].max()],'k--',lw=4)\n",
    "ax.set_xlabel('Actual Age')\n",
    "ax.set_ylabel('Predicted age')\n",
    "plt.show()"
   ]
  },
  {
   "cell_type": "markdown",
   "id": "00d71f96",
   "metadata": {},
   "source": [
    "## Making report of model"
   ]
  },
  {
   "cell_type": "code",
   "execution_count": 42,
   "id": "98323380",
   "metadata": {},
   "outputs": [],
   "source": [
    "i=0\n",
    "Pred_l=[]\n",
    "while(i<len(pred[0])):\n",
    "    Pred_l.append(int(np.round(pred[0][i])))\n",
    "    i=i+1"
   ]
  },
  {
   "cell_type": "code",
   "execution_count": 43,
   "id": "ba2fa834",
   "metadata": {},
   "outputs": [],
   "source": [
    "from sklearn.metrics import confusion_matrix\n",
    "from sklearn.metrics import classification_report"
   ]
  },
  {
   "cell_type": "code",
   "execution_count": 44,
   "id": "942bd59c",
   "metadata": {},
   "outputs": [],
   "source": [
    "report=classification_report(y_test_2[0],Pred_l)"
   ]
  },
  {
   "cell_type": "code",
   "execution_count": 45,
   "id": "faaf147f",
   "metadata": {},
   "outputs": [
    {
     "name": "stdout",
     "output_type": "stream",
     "text": [
      "              precision    recall  f1-score   support\n",
      "\n",
      "           0       0.81      0.92      0.86      2976\n",
      "           1       0.91      0.78      0.84      2951\n",
      "\n",
      "    accuracy                           0.85      5927\n",
      "   macro avg       0.86      0.85      0.85      5927\n",
      "weighted avg       0.86      0.85      0.85      5927\n",
      "\n"
     ]
    }
   ],
   "source": [
    "print(report)"
   ]
  },
  {
   "cell_type": "markdown",
   "id": "0d3cc9dc",
   "metadata": {},
   "source": [
    "## Making heatmap of model(gender only)"
   ]
  },
  {
   "cell_type": "code",
   "execution_count": 46,
   "id": "322f4738",
   "metadata": {},
   "outputs": [],
   "source": [
    "results=confusion_matrix(y_test_2[0],Pred_l)"
   ]
  },
  {
   "cell_type": "code",
   "execution_count": 47,
   "id": "24ae176b",
   "metadata": {},
   "outputs": [
    {
     "data": {
      "text/plain": [
       "<AxesSubplot:>"
      ]
     },
     "execution_count": 47,
     "metadata": {},
     "output_type": "execute_result"
    },
    {
     "data": {
      "image/png": "[encoded data removed]",
      "text/plain": [
       "<Figure size 640x480 with 2 Axes>"
      ]
     },
     "metadata": {},
     "output_type": "display_data"
    }
   ],
   "source": [
    "sns.heatmap(results,annot=True)"
   ]
  },
  {
   "cell_type": "markdown",
   "id": "75ea1188",
   "metadata": {},
   "source": [
    "## Testing images ourselves"
   ]
  },
  {
   "cell_type": "code",
   "execution_count": 48,
   "id": "ee060254",
   "metadata": {},
   "outputs": [],
   "source": [
    "def test_image(ind,image_f,image_f_2,Model):\n",
    "    plt.imshow(image_f[ind])\n",
    "    image_test=image_f_2[ind]\n",
    "    pred_l=Model.predict(np.array([image_test]))\n",
    "    sex_f=['Male','Female']\n",
    "    age=int(np.round(pred_l[1][0]))\n",
    "    sex=int(np.round(pred_l[0][0]))\n",
    "    print('Predicted Age is '+ str(age))\n",
    "    print('Predicted Gender is'+ sex_f[sex])"
   ]
  },
  {
   "cell_type": "code",
   "execution_count": 49,
   "id": "c9178bbd",
   "metadata": {},
   "outputs": [
    {
     "name": "stdout",
     "output_type": "stream",
     "text": [
      "1/1 [==============================] - 0s 20ms/step\n",
      "Predicted Age is 109\n",
      "Predicted Gender isFemale\n"
     ]
    },
    {
     "data": {
      "image/png": "[encoded data removed]",
      "text/plain": [
       "<Figure size 640x480 with 1 Axes>"
      ]
     },
     "metadata": {},
     "output_type": "display_data"
    }
   ],
   "source": [
    "test_image(4,image_f,image_f_2,Model)"
   ]
  },
  {
   "cell_type": "code",
   "execution_count": null,
   "id": "82eccacb",
   "metadata": {},
   "outputs": [],
   "source": []
  },
  {
   "cell_type": "code",
   "execution_count": null,
   "id": "4c685e39",
   "metadata": {},
   "outputs": [],
   "source": []
  },
  {
   "cell_type": "code",
   "execution_count": null,
   "id": "0e21584d",
   "metadata": {},
   "outputs": [],
   "source": []
  },
  {
   "cell_type": "code",
   "execution_count": null,
   "id": "682796a5",
   "metadata": {},
   "outputs": [],
   "source": []
  },
  {
   "cell_type": "code",
   "execution_count": null,
   "id": "43619941",
   "metadata": {},
   "outputs": [],
   "source": []
  },
  {
   "cell_type": "code",
   "execution_count": null,
   "id": "b2e82ec8",
   "metadata": {},
   "outputs": [],
   "source": []
  }
 ],
 "metadata": {
  "kernelspec": {
   "display_name": "Python 3 (ipykernel)",
   "language": "python",
   "name": "python3"
  },
  "language_info": {
   "codemirror_mode": {
    "name": "ipython",
    "version": 3
   },
   "file_extension": ".py",
   "mimetype": "text/x-python",
   "name": "python",
   "nbconvert_exporter": "python",
   "pygments_lexer": "ipython3",
   "version": "3.7.9"
  }
 },
 "nbformat": 4,
 "nbformat_minor": 5
}
